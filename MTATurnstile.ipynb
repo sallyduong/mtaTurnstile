{
 "cells": [
  {
   "cell_type": "markdown",
   "id": "8f00e4ce",
   "metadata": {},
   "source": [
    "\n",
    "## NYC MTA Turnstile\n",
    "Dataset: http://web.mta.info/developers/turnstile.html\n",
    "\n",
    "## Table of Contents:\n",
    "* [Note: Limiting Data](#first-bullet)\n",
    "* [Download Files](#second-bullet)\n",
    "* [Pre2014 Data Prep](#third-bullet)\n",
    "** [Create a Pre2014 Dataset](#a-bullet)\n",
    "** [Aggregate Pre2014 Dataset to Daily Grain](#b-bullet)\n",
    "** [Clean Pre2014 Dataset](#c-bullet)\n",
    "* [Post2014 Data Prep](#fourth-bullet)\n",
    "** [Create a Post2014 Dataset](#d-bullet)\n",
    "** [Aggregate Post2014 Dataset to Daily Grain](#e-bullet)\n",
    "** [Clean Post2014 Dataset](#f-bullet)\n",
    "* [Enrich Pre2014 Dataset](#fifth-bullet)\n",
    "* [Create Daily Turnstile Dataset](#sixth-bullet)\n",
    "* [Data Analysis](#seventh-bullet)\n",
    "* [Data Visualization](#eighth-bullet)\n",
    "* [Bonus Question](#ninth-bullet)"
   ]
  },
  {
   "cell_type": "code",
   "execution_count": 4,
   "id": "1c35a221",
   "metadata": {},
   "outputs": [
    {
     "name": "stderr",
     "output_type": "stream",
     "text": [
      "/Users/sallyduong/Library/Python/3.9/lib/python/site-packages/urllib3/__init__.py:34: NotOpenSSLWarning: urllib3 v2 only supports OpenSSL 1.1.1+, currently the 'ssl' module is compiled with 'LibreSSL 2.8.3'. See: https://github.com/urllib3/urllib3/issues/3020\n",
      "  warnings.warn(\n"
     ]
    }
   ],
   "source": [
    "from bs4 import BeautifulSoup as bs\n",
    "import requests\n",
    "import pandas as pd\n",
    "import numpy as np\n",
    "from matplotlib import pyplot as plt"
   ]
  },
  {
   "cell_type": "markdown",
   "id": "4696a94a",
   "metadata": {},
   "source": [
    "## [NOTE] Limiting Data <a class=\"anchor\" id=\"first-bullet\"></a>\n",
    "Due to limitation of the processing power of my personal computer, I am limiting the amount of data I am working with. The variables below are used to set the date range.\n",
    "Assumption: The data quality from 01/01/2013 to 12/31/2014 is representative of the entire dataset."
   ]
  },
  {
   "cell_type": "code",
   "execution_count": 3,
   "id": "70e471f0",
   "metadata": {},
   "outputs": [
    {
     "data": {
      "application/javascript": "\n            setTimeout(function() {\n                var nbb_cell_id = 3;\n                var nbb_unformatted_code = \"# Set start and end date range for limiting data\\nlimitStartDate = 130101  # Jan 1, 2013\\nlimitEndDate = 141231  # Dec 31, 2014\\n\\n# If your computer is more powerful than mine (which I hope it is!), comment out the above and uncomment\\n# the below.\\n# limitStartDate = 100505 # May 5, 2010\\n# limitEndDate = 230121 # Jan 21, 2023, or update to most recent date\";\n                var nbb_formatted_code = \"# Set start and end date range for limiting data\\nlimitStartDate = 130101  # Jan 1, 2013\\nlimitEndDate = 141231  # Dec 31, 2014\\n\\n# If your computer is more powerful than mine (which I hope it is!), comment out the above and uncomment\\n# the below.\\n# limitStartDate = 100505 # May 5, 2010\\n# limitEndDate = 230121 # Jan 21, 2023, or update to most recent date\";\n                var nbb_cells = Jupyter.notebook.get_cells();\n                for (var i = 0; i < nbb_cells.length; ++i) {\n                    if (nbb_cells[i].input_prompt_number == nbb_cell_id) {\n                        if (nbb_cells[i].get_text() == nbb_unformatted_code) {\n                             nbb_cells[i].set_text(nbb_formatted_code);\n                        }\n                        break;\n                    }\n                }\n            }, 500);\n            ",
      "text/plain": [
       "<IPython.core.display.Javascript object>"
      ]
     },
     "metadata": {},
     "output_type": "display_data"
    }
   ],
   "source": [
    "# Set start and end date range for limiting data\n",
    "limitStartDate = 130101  # Jan 1, 2013\n",
    "limitEndDate = 141231  # Dec 31, 2014\n",
    "\n",
    "# If your computer is more powerful than mine (which I hope it is!), comment out the above and uncomment\n",
    "# the below.\n",
    "# limitStartDate = 100505 # May 5, 2010\n",
    "# limitEndDate = 230121 # Jan 21, 2023, or update to most recent date"
   ]
  },
  {
   "cell_type": "markdown",
   "id": "f38a6107",
   "metadata": {},
   "source": [
    "# Download Files to Local Machine & Create List of Target Files to Open <a class=\"anchor\" id=\"second-bullet\"></a>\n",
    "\n",
    "Using Beautiful Soup, parse through the NYC MTA Turnstile website and download relevant files.\n",
    "To get more details about the website, use the 'Inspect Element' functionality within your browser.\n",
    "\n",
    "<b>Data will be split into two groups... pre2014 = prior to 10/18/2014, and post2014 = current</b>"
   ]
  },
  {
   "cell_type": "code",
   "execution_count": 5,
   "id": "e28e2030",
   "metadata": {},
   "outputs": [],
   "source": [
    "domain = \"http://web.mta.info/developers/\"\n",
    "url = \"http://web.mta.info/developers/turnstile.html\"\n",
    "\n",
    "# Specify what data from the website we're looking for and the expected filetype\n",
    "keywordTurnstile = \"data/nyct/turnstile/turnstile\"\n",
    "filetype = \".txt\"\n",
    "\n",
    "# Specify when the schema changed (September 18, 2014)\n",
    "# Data will be split into two groups... pre2014 = prior to 10/18/2014, and post2014 = current\n",
    "schemaChange_2014 = 141018"
   ]
  },
  {
   "cell_type": "code",
   "execution_count": 6,
   "id": "008060b7",
   "metadata": {},
   "outputs": [],
   "source": [
    "def get_soup(url):\n",
    "    return bs(requests.get(url).text, \"html.parser\")\n",
    "\n",
    "\n",
    "# Variables to store list of file names that we want to open\n",
    "fileNames_pre2014 = []\n",
    "fileNames_post2014 = []\n",
    "\n",
    "# Go through every href link on the page. If it meets our criteria, download the file and add the name of the\n",
    "# file to our list.\n",
    "for link in get_soup(url).find_all(\"a\", href=True):\n",
    "    file_link = link.get(\"href\")\n",
    "\n",
    "    # pre2014\n",
    "    if (\n",
    "        (keywordTurnstile in file_link)\n",
    "        and (filetype in file_link)\n",
    "        and (int((file_link[-10:-4])) >= limitStartDate)\n",
    "        and (int((file_link[-10:-4])) < schemaChange_2014)\n",
    "    ):\n",
    "        # Comment entire with block below to not download file\n",
    "         with open(link.text, 'wb') as file:\n",
    "                response = requests.get(domain + file_link)\n",
    "                file.close()\n",
    "                \n",
    "                fileNames_pre2014.append(link.text)\n",
    "\n",
    "    # post2014\n",
    "    elif (\n",
    "        (keywordTurnstile in file_link)\n",
    "        and (filetype in file_link)\n",
    "        and (int((file_link[-10:-4])) <= limitEndDate)\n",
    "        and (int((file_link[-10:-4])) >= schemaChange_2014)\n",
    "    ):\n",
    "        # Comment entire with block below to not download file\n",
    "         with open(link.text, 'wb') as file:\n",
    "                response = requests.get(domain + file_link)\n",
    "                file.write(response.content)\n",
    "                file.close()\n",
    "                \n",
    "                fileNames_post2014.append(link.text)"
   ]
  },
  {
   "cell_type": "markdown",
   "id": "12c06052",
   "metadata": {},
   "source": [
    "# Pre2014 Data Prep <a class=\"anchor\" id=\"third-bullet\"></a>\n",
    "\n",
    "\n",
    "### Table of Contents:\n",
    "* [Create a Pre2014 Dataset](#a-bullet)\n",
    "* [Aggregate Pre2014 Dataset to Daily Grain](#b-bullet)\n",
    "* [Clean Pre2014Dataset](#C-bullet)"
   ]
  },
  {
   "cell_type": "markdown",
   "id": "5232e5ad",
   "metadata": {},
   "source": [
    "## Create a Pre2014 Dataset <a class=\"anchor\" id=\"a-bullet\"></a>\n",
    "Take all pre2014 files (prior to September 18, 2014) and union them into one dataset."
   ]
  },
  {
   "cell_type": "code",
   "execution_count": 7,
   "id": "7a14d623",
   "metadata": {},
   "outputs": [
    {
     "ename": "ValueError",
     "evalue": "No objects to concatenate",
     "output_type": "error",
     "traceback": [
      "\u001b[0;31m---------------------------------------------------------------------------\u001b[0m",
      "\u001b[0;31mValueError\u001b[0m                                Traceback (most recent call last)",
      "Cell \u001b[0;32mIn[7], line 24\u001b[0m\n\u001b[1;32m     20\u001b[0m                     file_datapoints\u001b[38;5;241m.\u001b[39mappend(prefix \u001b[38;5;241m+\u001b[39m suffix)\n\u001b[1;32m     22\u001b[0m         dataset_pre2014\u001b[38;5;241m.\u001b[39mappend(pd\u001b[38;5;241m.\u001b[39mDataFrame(data \u001b[38;5;241m=\u001b[39m file_datapoints))\n\u001b[0;32m---> 24\u001b[0m dataset_pre2014 \u001b[38;5;241m=\u001b[39m \u001b[43mpd\u001b[49m\u001b[38;5;241;43m.\u001b[39;49m\u001b[43mconcat\u001b[49m\u001b[43m(\u001b[49m\u001b[43mdataset_pre2014\u001b[49m\u001b[43m)\u001b[49m\n",
      "File \u001b[0;32m~/Library/Python/3.9/lib/python/site-packages/pandas/util/_decorators.py:331\u001b[0m, in \u001b[0;36mdeprecate_nonkeyword_arguments.<locals>.decorate.<locals>.wrapper\u001b[0;34m(*args, **kwargs)\u001b[0m\n\u001b[1;32m    325\u001b[0m \u001b[38;5;28;01mif\u001b[39;00m \u001b[38;5;28mlen\u001b[39m(args) \u001b[38;5;241m>\u001b[39m num_allow_args:\n\u001b[1;32m    326\u001b[0m     warnings\u001b[38;5;241m.\u001b[39mwarn(\n\u001b[1;32m    327\u001b[0m         msg\u001b[38;5;241m.\u001b[39mformat(arguments\u001b[38;5;241m=\u001b[39m_format_argument_list(allow_args)),\n\u001b[1;32m    328\u001b[0m         \u001b[38;5;167;01mFutureWarning\u001b[39;00m,\n\u001b[1;32m    329\u001b[0m         stacklevel\u001b[38;5;241m=\u001b[39mfind_stack_level(),\n\u001b[1;32m    330\u001b[0m     )\n\u001b[0;32m--> 331\u001b[0m \u001b[38;5;28;01mreturn\u001b[39;00m \u001b[43mfunc\u001b[49m\u001b[43m(\u001b[49m\u001b[38;5;241;43m*\u001b[39;49m\u001b[43margs\u001b[49m\u001b[43m,\u001b[49m\u001b[43m \u001b[49m\u001b[38;5;241;43m*\u001b[39;49m\u001b[38;5;241;43m*\u001b[39;49m\u001b[43mkwargs\u001b[49m\u001b[43m)\u001b[49m\n",
      "File \u001b[0;32m~/Library/Python/3.9/lib/python/site-packages/pandas/core/reshape/concat.py:368\u001b[0m, in \u001b[0;36mconcat\u001b[0;34m(objs, axis, join, ignore_index, keys, levels, names, verify_integrity, sort, copy)\u001b[0m\n\u001b[1;32m    146\u001b[0m \u001b[38;5;129m@deprecate_nonkeyword_arguments\u001b[39m(version\u001b[38;5;241m=\u001b[39m\u001b[38;5;28;01mNone\u001b[39;00m, allowed_args\u001b[38;5;241m=\u001b[39m[\u001b[38;5;124m\"\u001b[39m\u001b[38;5;124mobjs\u001b[39m\u001b[38;5;124m\"\u001b[39m])\n\u001b[1;32m    147\u001b[0m \u001b[38;5;28;01mdef\u001b[39;00m \u001b[38;5;21mconcat\u001b[39m(\n\u001b[1;32m    148\u001b[0m     objs: Iterable[NDFrame] \u001b[38;5;241m|\u001b[39m Mapping[HashableT, NDFrame],\n\u001b[0;32m   (...)\u001b[0m\n\u001b[1;32m    157\u001b[0m     copy: \u001b[38;5;28mbool\u001b[39m \u001b[38;5;241m=\u001b[39m \u001b[38;5;28;01mTrue\u001b[39;00m,\n\u001b[1;32m    158\u001b[0m ) \u001b[38;5;241m-\u001b[39m\u001b[38;5;241m>\u001b[39m DataFrame \u001b[38;5;241m|\u001b[39m Series:\n\u001b[1;32m    159\u001b[0m \u001b[38;5;250m    \u001b[39m\u001b[38;5;124;03m\"\"\"\u001b[39;00m\n\u001b[1;32m    160\u001b[0m \u001b[38;5;124;03m    Concatenate pandas objects along a particular axis.\u001b[39;00m\n\u001b[1;32m    161\u001b[0m \n\u001b[0;32m   (...)\u001b[0m\n\u001b[1;32m    366\u001b[0m \u001b[38;5;124;03m    1   3   4\u001b[39;00m\n\u001b[1;32m    367\u001b[0m \u001b[38;5;124;03m    \"\"\"\u001b[39;00m\n\u001b[0;32m--> 368\u001b[0m     op \u001b[38;5;241m=\u001b[39m \u001b[43m_Concatenator\u001b[49m\u001b[43m(\u001b[49m\n\u001b[1;32m    369\u001b[0m \u001b[43m        \u001b[49m\u001b[43mobjs\u001b[49m\u001b[43m,\u001b[49m\n\u001b[1;32m    370\u001b[0m \u001b[43m        \u001b[49m\u001b[43maxis\u001b[49m\u001b[38;5;241;43m=\u001b[39;49m\u001b[43maxis\u001b[49m\u001b[43m,\u001b[49m\n\u001b[1;32m    371\u001b[0m \u001b[43m        \u001b[49m\u001b[43mignore_index\u001b[49m\u001b[38;5;241;43m=\u001b[39;49m\u001b[43mignore_index\u001b[49m\u001b[43m,\u001b[49m\n\u001b[1;32m    372\u001b[0m \u001b[43m        \u001b[49m\u001b[43mjoin\u001b[49m\u001b[38;5;241;43m=\u001b[39;49m\u001b[43mjoin\u001b[49m\u001b[43m,\u001b[49m\n\u001b[1;32m    373\u001b[0m \u001b[43m        \u001b[49m\u001b[43mkeys\u001b[49m\u001b[38;5;241;43m=\u001b[39;49m\u001b[43mkeys\u001b[49m\u001b[43m,\u001b[49m\n\u001b[1;32m    374\u001b[0m \u001b[43m        \u001b[49m\u001b[43mlevels\u001b[49m\u001b[38;5;241;43m=\u001b[39;49m\u001b[43mlevels\u001b[49m\u001b[43m,\u001b[49m\n\u001b[1;32m    375\u001b[0m \u001b[43m        \u001b[49m\u001b[43mnames\u001b[49m\u001b[38;5;241;43m=\u001b[39;49m\u001b[43mnames\u001b[49m\u001b[43m,\u001b[49m\n\u001b[1;32m    376\u001b[0m \u001b[43m        \u001b[49m\u001b[43mverify_integrity\u001b[49m\u001b[38;5;241;43m=\u001b[39;49m\u001b[43mverify_integrity\u001b[49m\u001b[43m,\u001b[49m\n\u001b[1;32m    377\u001b[0m \u001b[43m        \u001b[49m\u001b[43mcopy\u001b[49m\u001b[38;5;241;43m=\u001b[39;49m\u001b[43mcopy\u001b[49m\u001b[43m,\u001b[49m\n\u001b[1;32m    378\u001b[0m \u001b[43m        \u001b[49m\u001b[43msort\u001b[49m\u001b[38;5;241;43m=\u001b[39;49m\u001b[43msort\u001b[49m\u001b[43m,\u001b[49m\n\u001b[1;32m    379\u001b[0m \u001b[43m    \u001b[49m\u001b[43m)\u001b[49m\n\u001b[1;32m    381\u001b[0m     \u001b[38;5;28;01mreturn\u001b[39;00m op\u001b[38;5;241m.\u001b[39mget_result()\n",
      "File \u001b[0;32m~/Library/Python/3.9/lib/python/site-packages/pandas/core/reshape/concat.py:425\u001b[0m, in \u001b[0;36m_Concatenator.__init__\u001b[0;34m(self, objs, axis, join, keys, levels, names, ignore_index, verify_integrity, copy, sort)\u001b[0m\n\u001b[1;32m    422\u001b[0m     objs \u001b[38;5;241m=\u001b[39m \u001b[38;5;28mlist\u001b[39m(objs)\n\u001b[1;32m    424\u001b[0m \u001b[38;5;28;01mif\u001b[39;00m \u001b[38;5;28mlen\u001b[39m(objs) \u001b[38;5;241m==\u001b[39m \u001b[38;5;241m0\u001b[39m:\n\u001b[0;32m--> 425\u001b[0m     \u001b[38;5;28;01mraise\u001b[39;00m \u001b[38;5;167;01mValueError\u001b[39;00m(\u001b[38;5;124m\"\u001b[39m\u001b[38;5;124mNo objects to concatenate\u001b[39m\u001b[38;5;124m\"\u001b[39m)\n\u001b[1;32m    427\u001b[0m \u001b[38;5;28;01mif\u001b[39;00m keys \u001b[38;5;129;01mis\u001b[39;00m \u001b[38;5;28;01mNone\u001b[39;00m:\n\u001b[1;32m    428\u001b[0m     objs \u001b[38;5;241m=\u001b[39m \u001b[38;5;28mlist\u001b[39m(com\u001b[38;5;241m.\u001b[39mnot_none(\u001b[38;5;241m*\u001b[39mobjs))\n",
      "\u001b[0;31mValueError\u001b[0m: No objects to concatenate"
     ]
    }
   ],
   "source": [
    "dataset_pre2014 = []\n",
    "\n",
    "# Through the process of concatnating pre-2014 data, the below datasets were identified as malformed\n",
    "# Assumption: malformed datasets are inaccurate datasets and can be ignored\n",
    "malformed_datasets = [\"Saturday, July 14, 2012\", \"Saturday, May 05, 2012\"]\n",
    "\n",
    "# Union all pre2014 data into one dataset and do not include the malformed datasets\n",
    "for file in fileNames_pre2014:\n",
    "\n",
    "    file_datapoints = []\n",
    "    \n",
    "    if file not in malformed_datasets:\n",
    "        with open(file) as f:\n",
    "            for line in f:\n",
    "                line = line.strip().split(\",\")\n",
    "                prefix = line[:3]\n",
    "                \n",
    "                for i in range(3, len(line), 5):\n",
    "                    suffix = line[i:i+5]\n",
    "                    file_datapoints.append(prefix + suffix)\n",
    "                \n",
    "        dataset_pre2014.append(pd.DataFrame(data = file_datapoints))\n",
    "    \n",
    "dataset_pre2014 = pd.concat(dataset_pre2014)\n"
   ]
  },
  {
   "cell_type": "code",
   "execution_count": 7,
   "id": "1f6d02a1",
   "metadata": {},
   "outputs": [
    {
     "data": {
      "application/javascript": "\n            setTimeout(function() {\n                var nbb_cell_id = 7;\n                var nbb_unformatted_code = \"# Rename columns from Range Index to expected field names\\ndataset_pre2014.columns = [\\n    \\\"C/A\\\",\\n    \\\"UNIT\\\",\\n    \\\"SCP\\\",\\n    \\\"DATE\\\",\\n    \\\"TIME\\\",\\n    \\\"DESC\\\",\\n    \\\"ENTRIES\\\",\\n    \\\"EXITS\\\",\\n]\";\n                var nbb_formatted_code = \"# Rename columns from Range Index to expected field names\\ndataset_pre2014.columns = [\\n    \\\"C/A\\\",\\n    \\\"UNIT\\\",\\n    \\\"SCP\\\",\\n    \\\"DATE\\\",\\n    \\\"TIME\\\",\\n    \\\"DESC\\\",\\n    \\\"ENTRIES\\\",\\n    \\\"EXITS\\\",\\n]\";\n                var nbb_cells = Jupyter.notebook.get_cells();\n                for (var i = 0; i < nbb_cells.length; ++i) {\n                    if (nbb_cells[i].input_prompt_number == nbb_cell_id) {\n                        if (nbb_cells[i].get_text() == nbb_unformatted_code) {\n                             nbb_cells[i].set_text(nbb_formatted_code);\n                        }\n                        break;\n                    }\n                }\n            }, 500);\n            ",
      "text/plain": [
       "<IPython.core.display.Javascript object>"
      ]
     },
     "metadata": {},
     "output_type": "display_data"
    }
   ],
   "source": [
    "# Rename columns from Range Index to expected field names\n",
    "dataset_pre2014.columns = [\n",
    "    \"C/A\",\n",
    "    \"UNIT\",\n",
    "    \"SCP\",\n",
    "    \"DATE\",\n",
    "    \"TIME\",\n",
    "    \"DESC\",\n",
    "    \"ENTRIES\",\n",
    "    \"EXITS\",\n",
    "]"
   ]
  },
  {
   "cell_type": "markdown",
   "id": "b1372d19",
   "metadata": {},
   "source": [
    "## Aggregate Pre2014 Dataset to Daily Grain <a class=\"anchor\" id=\"b-bullet\"></a>\n",
    "\n",
    "Since the lowest grain of the data needed for analysis and visualization is at the daily grain, pre-aggregate the dataset. This passes less data downstream and allows for faster runtime.\n",
    "</br>\n",
    "</br>\n",
    "As mentioned in the instructions document, the turnstile devices function like an odometer. So, we can utilize the max() function to get the last recorded count of entries and exits."
   ]
  },
  {
   "cell_type": "code",
   "execution_count": 8,
   "id": "a6f630c2",
   "metadata": {},
   "outputs": [
    {
     "data": {
      "application/javascript": "\n            setTimeout(function() {\n                var nbb_cell_id = 8;\n                var nbb_unformatted_code = \"# Set Entries and Exits to datatype Float so that they can be aggregated\\ndataset_pre2014 = dataset_pre2014.astype({\\\"ENTRIES\\\": \\\"float\\\", \\\"EXITS\\\": \\\"float\\\"})\\n# print(dataset_pre2014.dtypes)\";\n                var nbb_formatted_code = \"# Set Entries and Exits to datatype Float so that they can be aggregated\\ndataset_pre2014 = dataset_pre2014.astype({\\\"ENTRIES\\\": \\\"float\\\", \\\"EXITS\\\": \\\"float\\\"})\\n# print(dataset_pre2014.dtypes)\";\n                var nbb_cells = Jupyter.notebook.get_cells();\n                for (var i = 0; i < nbb_cells.length; ++i) {\n                    if (nbb_cells[i].input_prompt_number == nbb_cell_id) {\n                        if (nbb_cells[i].get_text() == nbb_unformatted_code) {\n                             nbb_cells[i].set_text(nbb_formatted_code);\n                        }\n                        break;\n                    }\n                }\n            }, 500);\n            ",
      "text/plain": [
       "<IPython.core.display.Javascript object>"
      ]
     },
     "metadata": {},
     "output_type": "display_data"
    }
   ],
   "source": [
    "# Set Entries and Exits to datatype Float so that they can be aggregated\n",
    "dataset_pre2014 = dataset_pre2014.astype({\"ENTRIES\": \"float\", \"EXITS\": \"float\"})\n",
    "# print(dataset_pre2014.dtypes)"
   ]
  },
  {
   "cell_type": "code",
   "execution_count": 9,
   "id": "c7a26528",
   "metadata": {},
   "outputs": [
    {
     "data": {
      "application/javascript": "\n            setTimeout(function() {\n                var nbb_cell_id = 9;\n                var nbb_unformatted_code = \"# Aggregate by day, and take the total entries and exits per day\\ndataset_pre2014_daily = dataset_pre2014.groupby(\\n    [\\\"C/A\\\", \\\"UNIT\\\", \\\"SCP\\\", \\\"DATE\\\", \\\"DESC\\\"], as_index=False\\n).agg(dailyEntries=(\\\"ENTRIES\\\", \\\"max\\\"), dailyExits=(\\\"EXITS\\\", \\\"max\\\"))\";\n                var nbb_formatted_code = \"# Aggregate by day, and take the total entries and exits per day\\ndataset_pre2014_daily = dataset_pre2014.groupby(\\n    [\\\"C/A\\\", \\\"UNIT\\\", \\\"SCP\\\", \\\"DATE\\\", \\\"DESC\\\"], as_index=False\\n).agg(dailyEntries=(\\\"ENTRIES\\\", \\\"max\\\"), dailyExits=(\\\"EXITS\\\", \\\"max\\\"))\";\n                var nbb_cells = Jupyter.notebook.get_cells();\n                for (var i = 0; i < nbb_cells.length; ++i) {\n                    if (nbb_cells[i].input_prompt_number == nbb_cell_id) {\n                        if (nbb_cells[i].get_text() == nbb_unformatted_code) {\n                             nbb_cells[i].set_text(nbb_formatted_code);\n                        }\n                        break;\n                    }\n                }\n            }, 500);\n            ",
      "text/plain": [
       "<IPython.core.display.Javascript object>"
      ]
     },
     "metadata": {},
     "output_type": "display_data"
    }
   ],
   "source": [
    "# Aggregate by day, and take the total entries and exits per day\n",
    "dataset_pre2014_daily = dataset_pre2014.groupby(\n",
    "    [\"C/A\", \"UNIT\", \"SCP\", \"DATE\", \"DESC\"], as_index=False\n",
    ").agg(dailyEntries=(\"ENTRIES\", \"max\"), dailyExits=(\"EXITS\", \"max\"))"
   ]
  },
  {
   "cell_type": "markdown",
   "id": "3b0923a6",
   "metadata": {},
   "source": [
    "## Clean Pre2014 Dataset <a class=\"anchor\" id=\"c-bullet\"></a>\n",
    "\n",
    "Perform a series of tests to uncover potential data quality concerns. </br>\n",
    "From the analysis, only DESC had a data quality concern (unexpected values).\n",
    "</br>\n",
    "</br>\n",
    "Assumption: the subset of pre2014 data is representative of the entire dataset.\n"
   ]
  },
  {
   "cell_type": "raw",
   "id": "af50eab3",
   "metadata": {},
   "source": [
    "# Check C/A by expected length\n",
    "dataset_pre2014_i1 = dataset_pre2014_daily.groupby(['C/A'], as_index=False).count()\n",
    "print(dataset_pre2014_i1)\n",
    "# Question: Is C/A values supposed to be length 4 (based off example A002) and the rest are errors?\n",
    "dataset_pre2014_i1_notLenFour = dataset_pre2014_i1.loc[(dataset_pre2014_i1['C/A']).str.len() != 4]\n",
    "print(dataset_pre2014_i1_notLenFour)\n",
    "# Answer: No\n",
    "\n",
    "# Check UNIT by expected length\n",
    "dataset_pre2014_i2 = dataset_pre2014_daily.groupby(['UNIT'], as_index=False).count()\n",
    "print(dataset_pre2014_i2)\n",
    "# Question: Any UNIT not length 4?\n",
    "dataset_pre2014_i2_notLenFour = dataset_pre2014_i2.loc[(dataset_pre2014_i2['UNIT']).str.len() != 4]\n",
    "print(dataset_pre2014_i2_notLenFour)\n",
    "# Answer: No\n",
    "\n",
    "# Check SCP by expected length\n",
    "dataset_pre2014_i3 = dataset_pre2014_daily.groupby(['SCP'], as_index=False).count()\n",
    "#print(dataset_pre2014_i3)\n",
    "# Question: Any SCP not length 8?\n",
    "dataset_pre2014_i3_notLenEight = dataset_pre2014_i3.loc[(dataset_pre2014_i3['SCP']).str.len() != 8]\n",
    "print(dataset_pre2014_i3_notLenEight)\n",
    "# Answer: No"
   ]
  },
  {
   "cell_type": "code",
   "execution_count": 10,
   "id": "f574e03f",
   "metadata": {},
   "outputs": [
    {
     "name": "stdout",
     "output_type": "stream",
     "text": [
      "                C/A     UNIT      SCP     DATE  dailyEntries  dailyExits\n",
      "DESC                                                                    \n",
      "064\u0000\u0000\u0000\u0000\u0000\u0000\u0000        1        1        1        1             1           1\n",
      "069\u0000\u0000\u0000\u0000\u0000\u0000\u0000        1        1        1        1             1           1\n",
      "9798999A9B        1        1        1        1             1           1\n",
      "DOOR CLOSE   182451   182451   182451   182451        182451      182451\n",
      "DOOR OPEN    235448   235448   235448   235448        235448      235448\n",
      "LGF-MAN      125983   125983   125983   125983        125983      125983\n",
      "LGF-SHUTDN        2        2        2        2             2           2\n",
      "LOGON        162665   162665   162665   162665        162665      162665\n",
      "RECOVR AUD   745482   745482   745482   745482        745482      745482\n",
      "REGULAR     2910322  2910322  2910322  2910322       2910322     2910322\n",
      "TS BRD CHG        2        2        2        2             2           2\n",
      "TS VLT OPN        8        8        8        8             8           8\n"
     ]
    },
    {
     "data": {
      "application/javascript": "\n            setTimeout(function() {\n                var nbb_cell_id = 10;\n                var nbb_unformatted_code = \"# Check DESC for expected values\\ndataset_pre2014_i4 = dataset_pre2014_daily.groupby([\\\"DESC\\\"]).count()\\nprint(dataset_pre2014_i4)\\n\\n# Keep rows where DESC is Regular or Recover Aud\\n# Assumption: Since the MTA website did not mention other values for DESC beyond Regular or Recover Aud,\\n# assume that they are inaccurate records\\ndataset_pre2014_daily = dataset_pre2014_daily.loc[\\n    (dataset_pre2014_daily[\\\"DESC\\\"] == \\\"REGULAR\\\")\\n    | (dataset_pre2014_daily[\\\"DESC\\\"] == \\\"RECOVR AUD\\\")\\n]\";\n                var nbb_formatted_code = \"# Check DESC for expected values\\ndataset_pre2014_i4 = dataset_pre2014_daily.groupby([\\\"DESC\\\"]).count()\\nprint(dataset_pre2014_i4)\\n\\n# Keep rows where DESC is Regular or Recover Aud\\n# Assumption: Since the MTA website did not mention other values for DESC beyond Regular or Recover Aud,\\n# assume that they are inaccurate records\\ndataset_pre2014_daily = dataset_pre2014_daily.loc[\\n    (dataset_pre2014_daily[\\\"DESC\\\"] == \\\"REGULAR\\\")\\n    | (dataset_pre2014_daily[\\\"DESC\\\"] == \\\"RECOVR AUD\\\")\\n]\";\n                var nbb_cells = Jupyter.notebook.get_cells();\n                for (var i = 0; i < nbb_cells.length; ++i) {\n                    if (nbb_cells[i].input_prompt_number == nbb_cell_id) {\n                        if (nbb_cells[i].get_text() == nbb_unformatted_code) {\n                             nbb_cells[i].set_text(nbb_formatted_code);\n                        }\n                        break;\n                    }\n                }\n            }, 500);\n            ",
      "text/plain": [
       "<IPython.core.display.Javascript object>"
      ]
     },
     "metadata": {},
     "output_type": "display_data"
    }
   ],
   "source": [
    "# Check DESC for expected values\n",
    "dataset_pre2014_i4 = dataset_pre2014_daily.groupby([\"DESC\"]).count()\n",
    "print(dataset_pre2014_i4)\n",
    "\n",
    "# Keep rows where DESC is Regular or Recover Aud\n",
    "# Assumption: Since the MTA website did not mention other values for DESC beyond Regular or Recover Aud,\n",
    "# assume that they are inaccurate records\n",
    "dataset_pre2014_daily = dataset_pre2014_daily.loc[\n",
    "    (dataset_pre2014_daily[\"DESC\"] == \"REGULAR\")\n",
    "    | (dataset_pre2014_daily[\"DESC\"] == \"RECOVR AUD\")\n",
    "]"
   ]
  },
  {
   "cell_type": "markdown",
   "id": "dda180ae",
   "metadata": {},
   "source": [
    "# Post2014 Data Prep <a class=\"anchor\" id=\"fourth-bullet\"></a>\n",
    "\n",
    "\n",
    "### Table of Contents:\n",
    "* [Create a Post2014 Dataset](#d-bullet)\n",
    "* [Aggregate Post2014 Dataset to Daily Grain](#e-bullet)\n",
    "* [Clean Post2014Dataset](#f-bullet)"
   ]
  },
  {
   "cell_type": "markdown",
   "id": "d945f74e",
   "metadata": {},
   "source": [
    "##  Create a Post2014 Dataset <a class=\"anchor\" id=\"d-bullet\"></a>\n",
    "Take all post2014 files (on and after September 18, 2014) and union them into one dataset."
   ]
  },
  {
   "cell_type": "code",
   "execution_count": 11,
   "id": "813ebdcc",
   "metadata": {},
   "outputs": [
    {
     "data": {
      "application/javascript": "\n            setTimeout(function() {\n                var nbb_cell_id = 11;\n                var nbb_unformatted_code = \"# Since post 2014 data does not contain malformed data set, union as is\\n\\n# Variable for all post2014 data\\ndataset_post2014 = []\\n\\n# Union all post2014 data into one dataset\\nfor file in fileNames_post2014:\\n    dataset_post2014.append(pd.read_csv(file))\\n\\ndataset_post2014 = pd.concat(dataset_post2014)\";\n                var nbb_formatted_code = \"# Since post 2014 data does not contain malformed data set, union as is\\n\\n# Variable for all post2014 data\\ndataset_post2014 = []\\n\\n# Union all post2014 data into one dataset\\nfor file in fileNames_post2014:\\n    dataset_post2014.append(pd.read_csv(file))\\n\\ndataset_post2014 = pd.concat(dataset_post2014)\";\n                var nbb_cells = Jupyter.notebook.get_cells();\n                for (var i = 0; i < nbb_cells.length; ++i) {\n                    if (nbb_cells[i].input_prompt_number == nbb_cell_id) {\n                        if (nbb_cells[i].get_text() == nbb_unformatted_code) {\n                             nbb_cells[i].set_text(nbb_formatted_code);\n                        }\n                        break;\n                    }\n                }\n            }, 500);\n            ",
      "text/plain": [
       "<IPython.core.display.Javascript object>"
      ]
     },
     "metadata": {},
     "output_type": "display_data"
    }
   ],
   "source": [
    "# Since post 2014 data does not contain malformed data set, union as is\n",
    "\n",
    "# Variable for all post2014 data\n",
    "dataset_post2014 = []\n",
    "\n",
    "# Union all post2014 data into one dataset\n",
    "for file in fileNames_post2014:\n",
    "    dataset_post2014.append(pd.read_csv(file))\n",
    "\n",
    "dataset_post2014 = pd.concat(dataset_post2014)"
   ]
  },
  {
   "cell_type": "markdown",
   "id": "47f62355",
   "metadata": {},
   "source": [
    "## Aggregate Post2014 Dataset to Daily Grain <a class=\"anchor\" id=\"e-bullet\"></a>\n",
    "Since the lowest grain of the data needed for analysis and visualization is at the daily grain, pre-aggregate the dataset. This passes less data downstream and allows for faster runtime.\n",
    "</br>\n",
    "</br>\n",
    "As mentioned in the instructions document, the turnstile devices function like an odometer. So, we can utilize the max() function to get the last recorded count of entries and exits."
   ]
  },
  {
   "cell_type": "code",
   "execution_count": 43,
   "id": "978f2514",
   "metadata": {},
   "outputs": [
    {
     "data": {
      "application/javascript": "\n            setTimeout(function() {\n                var nbb_cell_id = 43;\n                var nbb_unformatted_code = \"# Remove trailing white spaces in Exits column name\\ndataset_post2014 = dataset_post2014.rename(\\n    columns={\\n        \\\"EXITS                                                               \\\": \\\"EXITS\\\"\\n    }\\n)\\n\\n# Aggregate by day, and take the total entries and exits per day\\n# Since the turnstiles function like an odometer, the maximum can be used as the final tally of the day\\ndataset_post2014_daily = dataset_post2014.groupby(\\n    [\\\"C/A\\\", \\\"UNIT\\\", \\\"SCP\\\", \\\"STATION\\\", \\\"LINENAME\\\", \\\"DIVISION\\\", \\\"DATE\\\", \\\"DESC\\\"],\\n    as_index=False,\\n).agg(dailyEntries=(\\\"ENTRIES\\\", \\\"max\\\"), dailyExits=(\\\"EXITS\\\", \\\"max\\\"))\";\n                var nbb_formatted_code = \"# Remove trailing white spaces in Exits column name\\ndataset_post2014 = dataset_post2014.rename(\\n    columns={\\n        \\\"EXITS                                                               \\\": \\\"EXITS\\\"\\n    }\\n)\\n\\n# Aggregate by day, and take the total entries and exits per day\\n# Since the turnstiles function like an odometer, the maximum can be used as the final tally of the day\\ndataset_post2014_daily = dataset_post2014.groupby(\\n    [\\\"C/A\\\", \\\"UNIT\\\", \\\"SCP\\\", \\\"STATION\\\", \\\"LINENAME\\\", \\\"DIVISION\\\", \\\"DATE\\\", \\\"DESC\\\"],\\n    as_index=False,\\n).agg(dailyEntries=(\\\"ENTRIES\\\", \\\"max\\\"), dailyExits=(\\\"EXITS\\\", \\\"max\\\"))\";\n                var nbb_cells = Jupyter.notebook.get_cells();\n                for (var i = 0; i < nbb_cells.length; ++i) {\n                    if (nbb_cells[i].input_prompt_number == nbb_cell_id) {\n                        if (nbb_cells[i].get_text() == nbb_unformatted_code) {\n                             nbb_cells[i].set_text(nbb_formatted_code);\n                        }\n                        break;\n                    }\n                }\n            }, 500);\n            ",
      "text/plain": [
       "<IPython.core.display.Javascript object>"
      ]
     },
     "metadata": {},
     "output_type": "display_data"
    }
   ],
   "source": [
    "# Remove trailing white spaces in Exits column name\n",
    "dataset_post2014 = dataset_post2014.rename(\n",
    "    columns={\n",
    "        \"EXITS                                                               \": \"EXITS\"\n",
    "    }\n",
    ")\n",
    "\n",
    "# Aggregate by day, and take the total entries and exits per day\n",
    "# Since the turnstiles function like an odometer, the maximum can be used as the final tally of the day\n",
    "dataset_post2014_daily = dataset_post2014.groupby(\n",
    "    [\"C/A\", \"UNIT\", \"SCP\", \"STATION\", \"LINENAME\", \"DIVISION\", \"DATE\", \"DESC\"],\n",
    "    as_index=False,\n",
    ").agg(dailyEntries=(\"ENTRIES\", \"max\"), dailyExits=(\"EXITS\", \"max\"))"
   ]
  },
  {
   "cell_type": "markdown",
   "id": "dffb533a",
   "metadata": {},
   "source": [
    "## Clean Post 2014 Dataset <a class=\"anchor\" id=\"f-bullet\"></a>\n",
    "\n",
    "Assumption: Checks used in the Pre2014 dataset are the same for Post2014."
   ]
  },
  {
   "cell_type": "code",
   "execution_count": 44,
   "id": "47c84eab",
   "metadata": {},
   "outputs": [
    {
     "data": {
      "text/html": [
       "<div>\n",
       "<style scoped>\n",
       "    .dataframe tbody tr th:only-of-type {\n",
       "        vertical-align: middle;\n",
       "    }\n",
       "\n",
       "    .dataframe tbody tr th {\n",
       "        vertical-align: top;\n",
       "    }\n",
       "\n",
       "    .dataframe thead th {\n",
       "        text-align: right;\n",
       "    }\n",
       "</style>\n",
       "<table border=\"1\" class=\"dataframe\">\n",
       "  <thead>\n",
       "    <tr style=\"text-align: right;\">\n",
       "      <th></th>\n",
       "      <th>C/A</th>\n",
       "      <th>UNIT</th>\n",
       "      <th>SCP</th>\n",
       "      <th>STATION</th>\n",
       "      <th>LINENAME</th>\n",
       "      <th>DIVISION</th>\n",
       "      <th>DATE</th>\n",
       "      <th>DESC</th>\n",
       "      <th>dailyEntries</th>\n",
       "      <th>dailyExits</th>\n",
       "    </tr>\n",
       "  </thead>\n",
       "  <tbody>\n",
       "    <tr>\n",
       "      <th>0</th>\n",
       "      <td>A002</td>\n",
       "      <td>R051</td>\n",
       "      <td>02-00-00</td>\n",
       "      <td>LEXINGTON AVE</td>\n",
       "      <td>NQR456</td>\n",
       "      <td>BMT</td>\n",
       "      <td>10/11/2014</td>\n",
       "      <td>REGULAR</td>\n",
       "      <td>4821671.0</td>\n",
       "      <td>1635968.0</td>\n",
       "    </tr>\n",
       "    <tr>\n",
       "      <th>1</th>\n",
       "      <td>A002</td>\n",
       "      <td>R051</td>\n",
       "      <td>02-00-00</td>\n",
       "      <td>LEXINGTON AVE</td>\n",
       "      <td>NQR456</td>\n",
       "      <td>BMT</td>\n",
       "      <td>10/12/2014</td>\n",
       "      <td>REGULAR</td>\n",
       "      <td>4822536.0</td>\n",
       "      <td>1636200.0</td>\n",
       "    </tr>\n",
       "    <tr>\n",
       "      <th>2</th>\n",
       "      <td>A002</td>\n",
       "      <td>R051</td>\n",
       "      <td>02-00-00</td>\n",
       "      <td>LEXINGTON AVE</td>\n",
       "      <td>NQR456</td>\n",
       "      <td>BMT</td>\n",
       "      <td>10/13/2014</td>\n",
       "      <td>REGULAR</td>\n",
       "      <td>4824028.0</td>\n",
       "      <td>1636676.0</td>\n",
       "    </tr>\n",
       "    <tr>\n",
       "      <th>3</th>\n",
       "      <td>A002</td>\n",
       "      <td>R051</td>\n",
       "      <td>02-00-00</td>\n",
       "      <td>LEXINGTON AVE</td>\n",
       "      <td>NQR456</td>\n",
       "      <td>BMT</td>\n",
       "      <td>10/14/2014</td>\n",
       "      <td>REGULAR</td>\n",
       "      <td>4825723.0</td>\n",
       "      <td>1637243.0</td>\n",
       "    </tr>\n",
       "    <tr>\n",
       "      <th>4</th>\n",
       "      <td>A002</td>\n",
       "      <td>R051</td>\n",
       "      <td>02-00-00</td>\n",
       "      <td>LEXINGTON AVE</td>\n",
       "      <td>NQR456</td>\n",
       "      <td>BMT</td>\n",
       "      <td>10/15/2014</td>\n",
       "      <td>REGULAR</td>\n",
       "      <td>4827475.0</td>\n",
       "      <td>1637859.0</td>\n",
       "    </tr>\n",
       "    <tr>\n",
       "      <th>...</th>\n",
       "      <td>...</td>\n",
       "      <td>...</td>\n",
       "      <td>...</td>\n",
       "      <td>...</td>\n",
       "      <td>...</td>\n",
       "      <td>...</td>\n",
       "      <td>...</td>\n",
       "      <td>...</td>\n",
       "      <td>...</td>\n",
       "      <td>...</td>\n",
       "    </tr>\n",
       "    <tr>\n",
       "      <th>310407</th>\n",
       "      <td>R730</td>\n",
       "      <td>R431</td>\n",
       "      <td>00-00-04</td>\n",
       "      <td>DYRE AVE</td>\n",
       "      <td>5</td>\n",
       "      <td>IRT</td>\n",
       "      <td>12/23/2014</td>\n",
       "      <td>RECOVR AUD</td>\n",
       "      <td>2212838.0</td>\n",
       "      <td>911175.0</td>\n",
       "    </tr>\n",
       "    <tr>\n",
       "      <th>310408</th>\n",
       "      <td>R730</td>\n",
       "      <td>R431</td>\n",
       "      <td>00-00-04</td>\n",
       "      <td>DYRE AVE</td>\n",
       "      <td>5</td>\n",
       "      <td>IRT</td>\n",
       "      <td>12/23/2014</td>\n",
       "      <td>REGULAR</td>\n",
       "      <td>2213013.0</td>\n",
       "      <td>911322.0</td>\n",
       "    </tr>\n",
       "    <tr>\n",
       "      <th>310409</th>\n",
       "      <td>R730</td>\n",
       "      <td>R431</td>\n",
       "      <td>00-00-04</td>\n",
       "      <td>DYRE AVE</td>\n",
       "      <td>5</td>\n",
       "      <td>IRT</td>\n",
       "      <td>12/24/2014</td>\n",
       "      <td>REGULAR</td>\n",
       "      <td>2213344.0</td>\n",
       "      <td>911469.0</td>\n",
       "    </tr>\n",
       "    <tr>\n",
       "      <th>310410</th>\n",
       "      <td>R730</td>\n",
       "      <td>R431</td>\n",
       "      <td>00-00-04</td>\n",
       "      <td>DYRE AVE</td>\n",
       "      <td>5</td>\n",
       "      <td>IRT</td>\n",
       "      <td>12/25/2014</td>\n",
       "      <td>REGULAR</td>\n",
       "      <td>2213414.0</td>\n",
       "      <td>911499.0</td>\n",
       "    </tr>\n",
       "    <tr>\n",
       "      <th>310411</th>\n",
       "      <td>R730</td>\n",
       "      <td>R431</td>\n",
       "      <td>00-00-04</td>\n",
       "      <td>DYRE AVE</td>\n",
       "      <td>5</td>\n",
       "      <td>IRT</td>\n",
       "      <td>12/26/2014</td>\n",
       "      <td>REGULAR</td>\n",
       "      <td>2213623.0</td>\n",
       "      <td>911585.0</td>\n",
       "    </tr>\n",
       "  </tbody>\n",
       "</table>\n",
       "<p>292588 rows × 10 columns</p>\n",
       "</div>"
      ],
      "text/plain": [
       "         C/A  UNIT       SCP        STATION LINENAME DIVISION        DATE  \\\n",
       "0       A002  R051  02-00-00  LEXINGTON AVE   NQR456      BMT  10/11/2014   \n",
       "1       A002  R051  02-00-00  LEXINGTON AVE   NQR456      BMT  10/12/2014   \n",
       "2       A002  R051  02-00-00  LEXINGTON AVE   NQR456      BMT  10/13/2014   \n",
       "3       A002  R051  02-00-00  LEXINGTON AVE   NQR456      BMT  10/14/2014   \n",
       "4       A002  R051  02-00-00  LEXINGTON AVE   NQR456      BMT  10/15/2014   \n",
       "...      ...   ...       ...            ...      ...      ...         ...   \n",
       "310407  R730  R431  00-00-04       DYRE AVE        5      IRT  12/23/2014   \n",
       "310408  R730  R431  00-00-04       DYRE AVE        5      IRT  12/23/2014   \n",
       "310409  R730  R431  00-00-04       DYRE AVE        5      IRT  12/24/2014   \n",
       "310410  R730  R431  00-00-04       DYRE AVE        5      IRT  12/25/2014   \n",
       "310411  R730  R431  00-00-04       DYRE AVE        5      IRT  12/26/2014   \n",
       "\n",
       "              DESC  dailyEntries  dailyExits  \n",
       "0          REGULAR     4821671.0   1635968.0  \n",
       "1          REGULAR     4822536.0   1636200.0  \n",
       "2          REGULAR     4824028.0   1636676.0  \n",
       "3          REGULAR     4825723.0   1637243.0  \n",
       "4          REGULAR     4827475.0   1637859.0  \n",
       "...            ...           ...         ...  \n",
       "310407  RECOVR AUD     2212838.0    911175.0  \n",
       "310408     REGULAR     2213013.0    911322.0  \n",
       "310409     REGULAR     2213344.0    911469.0  \n",
       "310410     REGULAR     2213414.0    911499.0  \n",
       "310411     REGULAR     2213623.0    911585.0  \n",
       "\n",
       "[292588 rows x 10 columns]"
      ]
     },
     "execution_count": 44,
     "metadata": {},
     "output_type": "execute_result"
    },
    {
     "data": {
      "application/javascript": "\n            setTimeout(function() {\n                var nbb_cell_id = 44;\n                var nbb_unformatted_code = \"# Check DIVISION by expected length\\ndataset_post2014_i5 = dataset_post2014_daily.groupby(\\n    [\\\"DIVISION\\\"], as_index=False\\n).count()\\n#print(dataset_post2014_i5)\\n\\n# The MTA website's Field Description page only lists BMT, IRT, and IND as stations\\n# Assumption: fields with other division names are incorrect and can be removed\\ndataset_post2014_daily = dataset_post2014_daily.loc[\\n    (dataset_post2014_daily[\\\"DIVISION\\\"] == \\\"BMT\\\")\\n    | (dataset_post2014_daily[\\\"DIVISION\\\"] == \\\"IRT\\\")\\n    | (dataset_post2014_daily[\\\"DIVISION\\\"] == \\\"IND\\\")\\n]\\n\\ndataset_post2014_daily\";\n                var nbb_formatted_code = \"# Check DIVISION by expected length\\ndataset_post2014_i5 = dataset_post2014_daily.groupby(\\n    [\\\"DIVISION\\\"], as_index=False\\n).count()\\n# print(dataset_post2014_i5)\\n\\n# The MTA website's Field Description page only lists BMT, IRT, and IND as stations\\n# Assumption: fields with other division names are incorrect and can be removed\\ndataset_post2014_daily = dataset_post2014_daily.loc[\\n    (dataset_post2014_daily[\\\"DIVISION\\\"] == \\\"BMT\\\")\\n    | (dataset_post2014_daily[\\\"DIVISION\\\"] == \\\"IRT\\\")\\n    | (dataset_post2014_daily[\\\"DIVISION\\\"] == \\\"IND\\\")\\n]\\n\\ndataset_post2014_daily\";\n                var nbb_cells = Jupyter.notebook.get_cells();\n                for (var i = 0; i < nbb_cells.length; ++i) {\n                    if (nbb_cells[i].input_prompt_number == nbb_cell_id) {\n                        if (nbb_cells[i].get_text() == nbb_unformatted_code) {\n                             nbb_cells[i].set_text(nbb_formatted_code);\n                        }\n                        break;\n                    }\n                }\n            }, 500);\n            ",
      "text/plain": [
       "<IPython.core.display.Javascript object>"
      ]
     },
     "metadata": {},
     "output_type": "display_data"
    }
   ],
   "source": [
    "# Check DIVISION by expected length\n",
    "dataset_post2014_i5 = dataset_post2014_daily.groupby(\n",
    "    [\"DIVISION\"], as_index=False\n",
    ").count()\n",
    "# print(dataset_post2014_i5)\n",
    "\n",
    "# The MTA website's Field Description page only lists BMT, IRT, and IND as stations\n",
    "# Assumption: fields with other division names are incorrect and can be removed\n",
    "dataset_post2014_daily = dataset_post2014_daily.loc[\n",
    "    (dataset_post2014_daily[\"DIVISION\"] == \"BMT\")\n",
    "    | (dataset_post2014_daily[\"DIVISION\"] == \"IRT\")\n",
    "    | (dataset_post2014_daily[\"DIVISION\"] == \"IND\")\n",
    "]\n",
    "\n",
    "#print(dataset_post2014_daily)"
   ]
  },
  {
   "cell_type": "code",
   "execution_count": 46,
   "id": "22f1d151",
   "metadata": {},
   "outputs": [
    {
     "data": {
      "application/javascript": "\n            setTimeout(function() {\n                var nbb_cell_id = 46;\n                var nbb_unformatted_code = \"# Keep rows where DESC is Regular or Recover Aud\\n# Assumption: Since the MTA website did not mention other values for DESC beyond Regular or Recover Aud,\\n# assume that they are inaccurate records\\ndataset_post2014_daily = dataset_post2014_daily.loc[\\n    (dataset_post2014_daily[\\\"DESC\\\"] == \\\"REGULAR\\\")\\n    | (dataset_post2014_daily[\\\"DESC\\\"] == \\\"RECOVR AUD\\\")\\n]\";\n                var nbb_formatted_code = \"# Keep rows where DESC is Regular or Recover Aud\\n# Assumption: Since the MTA website did not mention other values for DESC beyond Regular or Recover Aud,\\n# assume that they are inaccurate records\\ndataset_post2014_daily = dataset_post2014_daily.loc[\\n    (dataset_post2014_daily[\\\"DESC\\\"] == \\\"REGULAR\\\")\\n    | (dataset_post2014_daily[\\\"DESC\\\"] == \\\"RECOVR AUD\\\")\\n]\";\n                var nbb_cells = Jupyter.notebook.get_cells();\n                for (var i = 0; i < nbb_cells.length; ++i) {\n                    if (nbb_cells[i].input_prompt_number == nbb_cell_id) {\n                        if (nbb_cells[i].get_text() == nbb_unformatted_code) {\n                             nbb_cells[i].set_text(nbb_formatted_code);\n                        }\n                        break;\n                    }\n                }\n            }, 500);\n            ",
      "text/plain": [
       "<IPython.core.display.Javascript object>"
      ]
     },
     "metadata": {},
     "output_type": "display_data"
    }
   ],
   "source": [
    "# Keep rows where DESC is Regular or Recover Aud\n",
    "# Assumption: Since the MTA website did not mention other values for DESC beyond Regular or Recover Aud,\n",
    "# assume that they are inaccurate records\n",
    "dataset_post2014_daily = dataset_post2014_daily.loc[\n",
    "    (dataset_post2014_daily[\"DESC\"] == \"REGULAR\")\n",
    "    | (dataset_post2014_daily[\"DESC\"] == \"RECOVR AUD\")\n",
    "]"
   ]
  },
  {
   "cell_type": "markdown",
   "id": "70d28757",
   "metadata": {},
   "source": [
    "# Enrich Pre2014 Data  <a class=\"anchor\" id=\"fifth-bullet\"></a>\n",
    "Problem: pre2014 dataset does not include fields STATION, LINENAME, and DIVISION \n",
    "Hypothesis: The 3 fields can be inferred from a combination of C/A, UNIT, and SCP\n",
    "</br> </br>\n",
    "Join all possible combinations of STATION, LINENAME, and DIVISION (uniqueCombos = uC2) to the daily aggregated pre-2014 dataset (dataset_pre2014_daily). "
   ]
  },
  {
   "cell_type": "code",
   "execution_count": 47,
   "id": "607f9c61",
   "metadata": {},
   "outputs": [
    {
     "data": {
      "application/javascript": "\n            setTimeout(function() {\n                var nbb_cell_id = 47;\n                var nbb_unformatted_code = \"# Get all unique combinations of C/A, UNIT, SCP, STATION, LINENAME, and DIVISION  from post2014 dataset\\n# since STATION, LINENAME, and DIVISION are only available in post2014\\nuC2 = dataset_post2014_daily.groupby(\\n    [\\\"C/A\\\", \\\"UNIT\\\", \\\"SCP\\\", \\\"DESC\\\", \\\"STATION\\\", \\\"DIVISION\\\", \\\"LINENAME\\\"], as_index=False\\n).count()\\n\\n# Only keep relevant columns for joining to pre2014 data\\nuC2 = uC2.drop(columns=[\\\"DATE\\\", \\\"dailyEntries\\\", \\\"dailyExits\\\"])\\n\\n# print(dataset_pre2014_daily.columns)\\n# print(dataset_post2014_daily.columns)\\n# print(uC2.columns)\";\n                var nbb_formatted_code = \"# Get all unique combinations of C/A, UNIT, SCP, STATION, LINENAME, and DIVISION  from post2014 dataset\\n# since STATION, LINENAME, and DIVISION are only available in post2014\\nuC2 = dataset_post2014_daily.groupby(\\n    [\\\"C/A\\\", \\\"UNIT\\\", \\\"SCP\\\", \\\"DESC\\\", \\\"STATION\\\", \\\"DIVISION\\\", \\\"LINENAME\\\"], as_index=False\\n).count()\\n\\n# Only keep relevant columns for joining to pre2014 data\\nuC2 = uC2.drop(columns=[\\\"DATE\\\", \\\"dailyEntries\\\", \\\"dailyExits\\\"])\\n\\n# print(dataset_pre2014_daily.columns)\\n# print(dataset_post2014_daily.columns)\\n# print(uC2.columns)\";\n                var nbb_cells = Jupyter.notebook.get_cells();\n                for (var i = 0; i < nbb_cells.length; ++i) {\n                    if (nbb_cells[i].input_prompt_number == nbb_cell_id) {\n                        if (nbb_cells[i].get_text() == nbb_unformatted_code) {\n                             nbb_cells[i].set_text(nbb_formatted_code);\n                        }\n                        break;\n                    }\n                }\n            }, 500);\n            ",
      "text/plain": [
       "<IPython.core.display.Javascript object>"
      ]
     },
     "metadata": {},
     "output_type": "display_data"
    }
   ],
   "source": [
    "# Get all unique combinations of C/A, UNIT, SCP, STATION, LINENAME, and DIVISION  from post2014 dataset\n",
    "# since STATION, LINENAME, and DIVISION are only available in post2014\n",
    "uC2 = dataset_post2014_daily.groupby(\n",
    "    [\"C/A\", \"UNIT\", \"SCP\", \"DESC\", \"STATION\", \"DIVISION\", \"LINENAME\"], as_index=False\n",
    ").count()\n",
    "\n",
    "# Only keep relevant columns for joining to pre2014 data\n",
    "uC2 = uC2.drop(columns=[\"DATE\", \"dailyEntries\", \"dailyExits\"])\n",
    "\n",
    "# print(dataset_pre2014_daily.columns)\n",
    "# print(dataset_post2014_daily.columns)\n",
    "# print(uC2.columns)"
   ]
  },
  {
   "cell_type": "raw",
   "id": "bd8b8b8c",
   "metadata": {},
   "source": [
    "# Are there multiple linenames per C/A, Unit, SCP, DESC, Station, and Division?\n",
    "print('dataset_pre2014_daily' + ' has ' + str(len(dataset_pre2014_daily.index)) + ' rows ')\n",
    "uC3 = uC2.groupby(['C/A', 'UNIT', 'SCP', 'DESC', 'STATION', 'DIVISION', 'LINENAME'], \n",
    "                                     as_index=False).count()\n",
    "\n",
    "print('uC3' + ' has ' + str(len(uC3.index)) + ' rows ')\n",
    "\n",
    "uC4 = uC3.groupby(['C/A', 'UNIT', 'SCP', 'DESC', 'STATION', 'DIVISION'], \n",
    "                                     as_index=False).count()\n",
    "\n",
    "print('uC4' + ' has ' + str(len(uC4.index)) + ' rows ')"
   ]
  },
  {
   "cell_type": "code",
   "execution_count": 48,
   "id": "5409196f",
   "metadata": {},
   "outputs": [
    {
     "data": {
      "application/javascript": "\n            setTimeout(function() {\n                var nbb_cell_id = 48;\n                var nbb_unformatted_code = \"# Join dataframes to enrich pre2014 data with STATION, LINENAME, and DIVISION\\nenriched_pre2014_daily = pd.merge(\\n    dataset_pre2014_daily,\\n    uC2,\\n    on=[\\\"C/A\\\", \\\"UNIT\\\", \\\"SCP\\\", \\\"DESC\\\"],\\n    how=\\\"left\\\",\\n    suffixes=[\\\"_l\\\", \\\"_r\\\"],\\n)\";\n                var nbb_formatted_code = \"# Join dataframes to enrich pre2014 data with STATION, LINENAME, and DIVISION\\nenriched_pre2014_daily = pd.merge(\\n    dataset_pre2014_daily,\\n    uC2,\\n    on=[\\\"C/A\\\", \\\"UNIT\\\", \\\"SCP\\\", \\\"DESC\\\"],\\n    how=\\\"left\\\",\\n    suffixes=[\\\"_l\\\", \\\"_r\\\"],\\n)\";\n                var nbb_cells = Jupyter.notebook.get_cells();\n                for (var i = 0; i < nbb_cells.length; ++i) {\n                    if (nbb_cells[i].input_prompt_number == nbb_cell_id) {\n                        if (nbb_cells[i].get_text() == nbb_unformatted_code) {\n                             nbb_cells[i].set_text(nbb_formatted_code);\n                        }\n                        break;\n                    }\n                }\n            }, 500);\n            ",
      "text/plain": [
       "<IPython.core.display.Javascript object>"
      ]
     },
     "metadata": {},
     "output_type": "display_data"
    }
   ],
   "source": [
    "# Join dataframes to enrich pre2014 data with STATION, LINENAME, and DIVISION\n",
    "enriched_pre2014_daily = pd.merge(\n",
    "    dataset_pre2014_daily,\n",
    "    uC2,\n",
    "    on=[\"C/A\", \"UNIT\", \"SCP\", \"DESC\"],\n",
    "    how=\"left\",\n",
    "    suffixes=[\"_l\", \"_r\"],\n",
    ")"
   ]
  },
  {
   "cell_type": "code",
   "execution_count": 49,
   "id": "33d9013d",
   "metadata": {},
   "outputs": [
    {
     "name": "stdout",
     "output_type": "stream",
     "text": [
      "Is the count of rows from the pre2014 daily dataset and from the enriched pre2014 daily dataset the same? True\n"
     ]
    },
    {
     "data": {
      "application/javascript": "\n            setTimeout(function() {\n                var nbb_cell_id = 49;\n                var nbb_unformatted_code = \"# (Optional) Validating expected number of rows\\nprint(\\n    \\\"Is the count of rows from the pre2014 daily dataset and from the enriched pre2014 daily dataset the same? \\\"\\n    + str(len(dataset_pre2014_daily.index) == len(enriched_pre2014_daily.index))\\n)\";\n                var nbb_formatted_code = \"# (Optional) Validating expected number of rows\\nprint(\\n    \\\"Is the count of rows from the pre2014 daily dataset and from the enriched pre2014 daily dataset the same? \\\"\\n    + str(len(dataset_pre2014_daily.index) == len(enriched_pre2014_daily.index))\\n)\";\n                var nbb_cells = Jupyter.notebook.get_cells();\n                for (var i = 0; i < nbb_cells.length; ++i) {\n                    if (nbb_cells[i].input_prompt_number == nbb_cell_id) {\n                        if (nbb_cells[i].get_text() == nbb_unformatted_code) {\n                             nbb_cells[i].set_text(nbb_formatted_code);\n                        }\n                        break;\n                    }\n                }\n            }, 500);\n            ",
      "text/plain": [
       "<IPython.core.display.Javascript object>"
      ]
     },
     "metadata": {},
     "output_type": "display_data"
    }
   ],
   "source": [
    "# (Optional) Validating expected number of rows\n",
    "print(\n",
    "    \"Is the count of rows from the pre2014 daily dataset and from the enriched pre2014 daily dataset the same? \"\n",
    "    + str(len(dataset_pre2014_daily.index) == len(enriched_pre2014_daily.index))\n",
    ")"
   ]
  },
  {
   "cell_type": "markdown",
   "id": "36ebb5d8",
   "metadata": {},
   "source": [
    "# Create Daily Turnstile Dataset <a class=\"anchor\" id=\"sixth-bullet\"></a>\n",
    "Union the enriched pre2014 and post2014 dataset to create a single dataset that contains turnstile activity at the daily grain."
   ]
  },
  {
   "cell_type": "code",
   "execution_count": 50,
   "id": "a37a553d",
   "metadata": {},
   "outputs": [
    {
     "name": "stdout",
     "output_type": "stream",
     "text": [
      "Is the count of rows from the enriched pre2014 daily dataset plus post2014 daily dataset equal to \n",
      "the new unioned dataframe? True\n"
     ]
    },
    {
     "data": {
      "application/javascript": "\n            setTimeout(function() {\n                var nbb_cell_id = 50;\n                var nbb_unformatted_code = \"turnstileDaily = pd.concat([enriched_pre2014_daily, dataset_post2014_daily])\\n# print(turnstileDaily.head(50))\\n\\n# (Optional) Validating expected number of rows\\nprint(\\n    \\\"Is the count of rows from the enriched pre2014 daily dataset plus post2014 daily dataset equal to \\\"\\n)\\nprint(\\n    \\\"the new unioned dataframe? \\\"\\n    + str(\\n        (len(dataset_post2014_daily.index) + len(enriched_pre2014_daily.index))\\n        == len(turnstileDaily.index)\\n    )\\n)\";\n                var nbb_formatted_code = \"turnstileDaily = pd.concat([enriched_pre2014_daily, dataset_post2014_daily])\\n# print(turnstileDaily.head(50))\\n\\n# (Optional) Validating expected number of rows\\nprint(\\n    \\\"Is the count of rows from the enriched pre2014 daily dataset plus post2014 daily dataset equal to \\\"\\n)\\nprint(\\n    \\\"the new unioned dataframe? \\\"\\n    + str(\\n        (len(dataset_post2014_daily.index) + len(enriched_pre2014_daily.index))\\n        == len(turnstileDaily.index)\\n    )\\n)\";\n                var nbb_cells = Jupyter.notebook.get_cells();\n                for (var i = 0; i < nbb_cells.length; ++i) {\n                    if (nbb_cells[i].input_prompt_number == nbb_cell_id) {\n                        if (nbb_cells[i].get_text() == nbb_unformatted_code) {\n                             nbb_cells[i].set_text(nbb_formatted_code);\n                        }\n                        break;\n                    }\n                }\n            }, 500);\n            ",
      "text/plain": [
       "<IPython.core.display.Javascript object>"
      ]
     },
     "metadata": {},
     "output_type": "display_data"
    }
   ],
   "source": [
    "turnstileDaily = pd.concat([enriched_pre2014_daily, dataset_post2014_daily])\n",
    "# print(turnstileDaily.head(50))\n",
    "\n",
    "# (Optional) Validating expected number of rows\n",
    "print(\n",
    "    \"Is the count of rows from the enriched pre2014 daily dataset plus post2014 daily dataset equal to \"\n",
    ")\n",
    "print(\n",
    "    \"the new unioned dataframe? \"\n",
    "    + str(\n",
    "        (len(dataset_post2014_daily.index) + len(enriched_pre2014_daily.index))\n",
    "        == len(turnstileDaily.index)\n",
    "    )\n",
    ")"
   ]
  },
  {
   "cell_type": "code",
   "execution_count": 18,
   "id": "b70f4a09",
   "metadata": {},
   "outputs": [
    {
     "data": {
      "application/javascript": "\n            setTimeout(function() {\n                var nbb_cell_id = 18;\n                var nbb_unformatted_code = \"# Clean and update datatypes\\n\\n# Replace nulls with 0\\nturnstileDaily = turnstileDaily.fillna(0)\\n\\n# Update Date datatypes\\nturnstileDaily[\\\"DATE\\\"] = pd.to_datetime(turnstileDaily[\\\"DATE\\\"])\\n\\n# Update string and int datatypes\\nturnstileDaily = turnstileDaily.astype(\\n    {\\n        \\\"C/A\\\": \\\"string\\\",\\n        \\\"UNIT\\\": \\\"string\\\",\\n        \\\"SCP\\\": \\\"string\\\",\\n        \\\"DESC\\\": \\\"string\\\",\\n        \\\"dailyEntries\\\": \\\"int\\\",\\n        \\\"dailyExits\\\": \\\"int\\\",\\n        \\\"STATION\\\": \\\"string\\\",\\n        \\\"DIVISION\\\": \\\"string\\\",\\n        \\\"LINENAME\\\": \\\"string\\\",\\n    }\\n)\\n# print(turnstileDaily.dtypes)\";\n                var nbb_formatted_code = \"# Clean and update datatypes\\n\\n# Replace nulls with 0\\nturnstileDaily = turnstileDaily.fillna(0)\\n\\n# Update Date datatypes\\nturnstileDaily[\\\"DATE\\\"] = pd.to_datetime(turnstileDaily[\\\"DATE\\\"])\\n\\n# Update string and int datatypes\\nturnstileDaily = turnstileDaily.astype(\\n    {\\n        \\\"C/A\\\": \\\"string\\\",\\n        \\\"UNIT\\\": \\\"string\\\",\\n        \\\"SCP\\\": \\\"string\\\",\\n        \\\"DESC\\\": \\\"string\\\",\\n        \\\"dailyEntries\\\": \\\"int\\\",\\n        \\\"dailyExits\\\": \\\"int\\\",\\n        \\\"STATION\\\": \\\"string\\\",\\n        \\\"DIVISION\\\": \\\"string\\\",\\n        \\\"LINENAME\\\": \\\"string\\\",\\n    }\\n)\\n# print(turnstileDaily.dtypes)\";\n                var nbb_cells = Jupyter.notebook.get_cells();\n                for (var i = 0; i < nbb_cells.length; ++i) {\n                    if (nbb_cells[i].input_prompt_number == nbb_cell_id) {\n                        if (nbb_cells[i].get_text() == nbb_unformatted_code) {\n                             nbb_cells[i].set_text(nbb_formatted_code);\n                        }\n                        break;\n                    }\n                }\n            }, 500);\n            ",
      "text/plain": [
       "<IPython.core.display.Javascript object>"
      ]
     },
     "metadata": {},
     "output_type": "display_data"
    }
   ],
   "source": [
    "# Clean and update datatypes\n",
    "\n",
    "# Replace nulls with 0\n",
    "turnstileDaily = turnstileDaily.fillna(0)\n",
    "\n",
    "# Update Date datatypes\n",
    "turnstileDaily[\"DATE\"] = pd.to_datetime(turnstileDaily[\"DATE\"])\n",
    "\n",
    "# Update string and int datatypes\n",
    "turnstileDaily = turnstileDaily.astype(\n",
    "    {\n",
    "        \"C/A\": \"string\",\n",
    "        \"UNIT\": \"string\",\n",
    "        \"SCP\": \"string\",\n",
    "        \"DESC\": \"string\",\n",
    "        \"dailyEntries\": \"int\",\n",
    "        \"dailyExits\": \"int\",\n",
    "        \"STATION\": \"string\",\n",
    "        \"DIVISION\": \"string\",\n",
    "        \"LINENAME\": \"string\",\n",
    "    }\n",
    ")\n",
    "# print(turnstileDaily.dtypes)"
   ]
  },
  {
   "cell_type": "markdown",
   "id": "fb7ac476",
   "metadata": {},
   "source": [
    "# Data Analysis <a class=\"anchor\" id=\"seventh-bullet\"></a>\n",
    "\n",
    "### Table of Contents:\n",
    "* [Which station has the most number of units?](#g-bullet)\n",
    "* [What is the total number of entries & exits across the subway system for February 1, 2013?](#h-bullet)\n",
    "* [What station was the busiest on February 1, 2013?](#i-bullet)\n",
    "* [What turnstile was the busiest on February 1, 2013?](#j-bullet)\n",
    "* [What stations have seen the most usage growth/decline in 2013?](#k-bullet)\n",
    "* [What dates are the least busy?](#l-bullet)"
   ]
  },
  {
   "cell_type": "markdown",
   "id": "7259f556",
   "metadata": {},
   "source": [
    "#### Which station has the most number of units? <a class=\"anchor\" id=\"g-bullet\"></a>"
   ]
  },
  {
   "cell_type": "code",
   "execution_count": 35,
   "id": "f13e496f",
   "metadata": {},
   "outputs": [
    {
     "name": "stdout",
     "output_type": "stream",
     "text": [
      "         countOfUnits\n",
      "STATION              \n",
      "0                 315\n"
     ]
    },
    {
     "data": {
      "application/javascript": "\n            setTimeout(function() {\n                var nbb_cell_id = 35;\n                var nbb_unformatted_code = \"# Which station has the most number of units?\\n\\n# Calculate how many units (count distinct) are in each station\\nunitsPerStation = turnstileDaily.groupby(['STATION']).agg(countOfUnits=('UNIT', 'nunique'))\\n\\n# Find station with the most units\\nmostUnitsInAStation = (unitsPerStation[unitsPerStation['countOfUnits'] == unitsPerStation['countOfUnits'].max()])\\nprint(mostUnitsInAStation)\";\n                var nbb_formatted_code = \"# Which station has the most number of units?\\n\\n# Calculate how many units (count distinct) are in each station\\nunitsPerStation = turnstileDaily.groupby([\\\"STATION\\\"]).agg(\\n    countOfUnits=(\\\"UNIT\\\", \\\"nunique\\\")\\n)\\n\\n# Find station with the most units\\nmostUnitsInAStation = unitsPerStation[\\n    unitsPerStation[\\\"countOfUnits\\\"] == unitsPerStation[\\\"countOfUnits\\\"].max()\\n]\\nprint(mostUnitsInAStation)\";\n                var nbb_cells = Jupyter.notebook.get_cells();\n                for (var i = 0; i < nbb_cells.length; ++i) {\n                    if (nbb_cells[i].input_prompt_number == nbb_cell_id) {\n                        if (nbb_cells[i].get_text() == nbb_unformatted_code) {\n                             nbb_cells[i].set_text(nbb_formatted_code);\n                        }\n                        break;\n                    }\n                }\n            }, 500);\n            ",
      "text/plain": [
       "<IPython.core.display.Javascript object>"
      ]
     },
     "metadata": {},
     "output_type": "display_data"
    }
   ],
   "source": [
    "# Which station has the most number of units?\n",
    "\n",
    "# Calculate how many units (count distinct) are in each station\n",
    "unitsPerStation = turnstileDaily.groupby(['STATION']).agg(countOfUnits=('UNIT', 'nunique'))\n",
    "\n",
    "# Find station with the most units\n",
    "mostUnitsInAStation = (unitsPerStation[unitsPerStation['countOfUnits'] == unitsPerStation['countOfUnits'].max()])\n",
    "print(mostUnitsInAStation)\n"
   ]
  },
  {
   "cell_type": "markdown",
   "id": "78912fbc",
   "metadata": {},
   "source": [
    "#### What is the total number of entries & exits across the subway system for February 1, 2013? <a class=\"anchor\" id=\"h-bullet\"></a>"
   ]
  },
  {
   "cell_type": "code",
   "execution_count": 20,
   "id": "d93969ef",
   "metadata": {},
   "outputs": [
    {
     "name": "stdout",
     "output_type": "stream",
     "text": [
      "            totalEntries   totalExits\n",
      "DATE                                 \n",
      "2013-02-01   20388626552  11425974944\n"
     ]
    },
    {
     "data": {
      "application/javascript": "\n            setTimeout(function() {\n                var nbb_cell_id = 20;\n                var nbb_unformatted_code = \"# What is the total number of entries & exits across the subway system for Feb 1, 2013?\\n\\nfeb1 = \\\"02-01-2013\\\"\\n\\n# Filter for only Feb 1, 2023 data\\nfeb1Dataset = turnstileDaily.loc[(turnstileDaily[\\\"DATE\\\"] == feb1)]\\n\\n\\n# Calculate total number of entries and exits on that day\\nfeb1EntriesExits = feb1Dataset.groupby([\\\"DATE\\\"]).agg(\\n    totalEntries=(\\\"dailyEntries\\\", \\\"sum\\\"), totalExits=(\\\"dailyExits\\\", \\\"sum\\\")\\n)\\nprint(feb1EntriesExits)\";\n                var nbb_formatted_code = \"# What is the total number of entries & exits across the subway system for Feb 1, 2013?\\n\\nfeb1 = \\\"02-01-2013\\\"\\n\\n# Filter for only Feb 1, 2023 data\\nfeb1Dataset = turnstileDaily.loc[(turnstileDaily[\\\"DATE\\\"] == feb1)]\\n\\n\\n# Calculate total number of entries and exits on that day\\nfeb1EntriesExits = feb1Dataset.groupby([\\\"DATE\\\"]).agg(\\n    totalEntries=(\\\"dailyEntries\\\", \\\"sum\\\"), totalExits=(\\\"dailyExits\\\", \\\"sum\\\")\\n)\\nprint(feb1EntriesExits)\";\n                var nbb_cells = Jupyter.notebook.get_cells();\n                for (var i = 0; i < nbb_cells.length; ++i) {\n                    if (nbb_cells[i].input_prompt_number == nbb_cell_id) {\n                        if (nbb_cells[i].get_text() == nbb_unformatted_code) {\n                             nbb_cells[i].set_text(nbb_formatted_code);\n                        }\n                        break;\n                    }\n                }\n            }, 500);\n            ",
      "text/plain": [
       "<IPython.core.display.Javascript object>"
      ]
     },
     "metadata": {},
     "output_type": "display_data"
    }
   ],
   "source": [
    "# What is the total number of entries & exits across the subway system for Feb 1, 2013?\n",
    "\n",
    "feb1 = \"02-01-2013\"\n",
    "\n",
    "# Filter for only Feb 1, 2023 data\n",
    "feb1Dataset = turnstileDaily.loc[(turnstileDaily[\"DATE\"] == feb1)]\n",
    "\n",
    "\n",
    "# Calculate total number of entries and exits on that day\n",
    "feb1EntriesExits = feb1Dataset.groupby([\"DATE\"]).agg(\n",
    "    totalEntries=(\"dailyEntries\", \"sum\"), totalExits=(\"dailyExits\", \"sum\")\n",
    ")\n",
    "print(feb1EntriesExits)"
   ]
  },
  {
   "cell_type": "markdown",
   "id": "2c8b3bab",
   "metadata": {},
   "source": [
    "#### What station was the busiest on February 1, 2013? <a class=\"anchor\" id=\"i-bullet\"></a>"
   ]
  },
  {
   "cell_type": "code",
   "execution_count": 21,
   "id": "bde5665f",
   "metadata": {},
   "outputs": [
    {
     "name": "stdout",
     "output_type": "stream",
     "text": [
      "          STATION  totalEntries  totalExits    busyness\n",
      "97  66 ST-LINCOLN     669910398   672883026  1342793424\n"
     ]
    },
    {
     "data": {
      "application/javascript": "\n            setTimeout(function() {\n                var nbb_cell_id = 21;\n                var nbb_unformatted_code = \"# What station was the busiest on Feb 1, 2013?\\n# Busyness = sum of entry and exit count\\n\\n# Calculate for total number of entries and exits per station on Feb 1, 2023\\nfeb1EntriesExitsByStation = feb1Dataset.groupby(['STATION'],as_index=False).agg(totalEntries=('dailyEntries', 'sum'),\\n                                                                 totalExits=('dailyExits', 'sum'))\\n# Sum total entries and exits per station on Feb 1, 2023\\nfeb1EntriesExitsByStation['busyness'] = feb1EntriesExitsByStation['totalEntries'] + feb1EntriesExitsByStation['totalExits']\\n\\n# Find the most busiest station\\nbusiestStation = (feb1EntriesExitsByStation[feb1EntriesExitsByStation['busyness'] == feb1EntriesExitsByStation['busyness'].max()])\\n\\nprint(busiestStation)\";\n                var nbb_formatted_code = \"# What station was the busiest on Feb 1, 2013?\\n# Busyness = sum of entry and exit count\\n\\n# Calculate for total number of entries and exits per station on Feb 1, 2023\\nfeb1EntriesExitsByStation = feb1Dataset.groupby([\\\"STATION\\\"], as_index=False).agg(\\n    totalEntries=(\\\"dailyEntries\\\", \\\"sum\\\"), totalExits=(\\\"dailyExits\\\", \\\"sum\\\")\\n)\\n# Sum total entries and exits per station on Feb 1, 2023\\nfeb1EntriesExitsByStation[\\\"busyness\\\"] = (\\n    feb1EntriesExitsByStation[\\\"totalEntries\\\"] + feb1EntriesExitsByStation[\\\"totalExits\\\"]\\n)\\n\\n# Find the most busiest station\\nbusiestStation = feb1EntriesExitsByStation[\\n    feb1EntriesExitsByStation[\\\"busyness\\\"] == feb1EntriesExitsByStation[\\\"busyness\\\"].max()\\n]\\n\\nprint(busiestStation)\";\n                var nbb_cells = Jupyter.notebook.get_cells();\n                for (var i = 0; i < nbb_cells.length; ++i) {\n                    if (nbb_cells[i].input_prompt_number == nbb_cell_id) {\n                        if (nbb_cells[i].get_text() == nbb_unformatted_code) {\n                             nbb_cells[i].set_text(nbb_formatted_code);\n                        }\n                        break;\n                    }\n                }\n            }, 500);\n            ",
      "text/plain": [
       "<IPython.core.display.Javascript object>"
      ]
     },
     "metadata": {},
     "output_type": "display_data"
    }
   ],
   "source": [
    "# What station was the busiest on Feb 1, 2013?\n",
    "# Busyness = sum of entry and exit count\n",
    "\n",
    "# Calculate for total number of entries and exits per station on Feb 1, 2023\n",
    "feb1EntriesExitsByStation = feb1Dataset.groupby(['STATION'],as_index=False).agg(totalEntries=('dailyEntries', 'sum'),\n",
    "                                                                 totalExits=('dailyExits', 'sum'))\n",
    "# Sum total entries and exits per station on Feb 1, 2023\n",
    "feb1EntriesExitsByStation['busyness'] = feb1EntriesExitsByStation['totalEntries'] + feb1EntriesExitsByStation['totalExits']\n",
    "\n",
    "# Find the most busiest station\n",
    "busiestStation = (feb1EntriesExitsByStation[feb1EntriesExitsByStation['busyness'] == feb1EntriesExitsByStation['busyness'].max()])\n",
    "\n",
    "print(busiestStation)\n"
   ]
  },
  {
   "cell_type": "markdown",
   "id": "78421bb0",
   "metadata": {},
   "source": [
    "#### What turnstile was the busiest on February 1, 2013? <a class=\"anchor\" id=\"j-bullet\"></a>"
   ]
  },
  {
   "cell_type": "code",
   "execution_count": 22,
   "id": "a5c31112",
   "metadata": {},
   "outputs": [
    {
     "name": "stdout",
     "output_type": "stream",
     "text": [
      "     UNIT  totalEntries  totalExits    busyness\n",
      "153  R164     682948098   686985026  1369933124\n"
     ]
    },
    {
     "data": {
      "application/javascript": "\n            setTimeout(function() {\n                var nbb_cell_id = 22;\n                var nbb_unformatted_code = \"# What turnstile was the busiest on that date?\\n# Assumption: turnstile = UNIT\\n\\n# Calculate for total number of entries and exits per UNIT on Feb 1, 2013\\nfeb1EntriesExitsByUnit = feb1Dataset.groupby([\\\"UNIT\\\"], as_index=False).agg(\\n    totalEntries=(\\\"dailyEntries\\\", \\\"sum\\\"), totalExits=(\\\"dailyExits\\\", \\\"sum\\\")\\n)\\n# Sum total entries and exits per station on Feb 1, 2013\\nfeb1EntriesExitsByUnit[\\\"busyness\\\"] = (\\n    feb1EntriesExitsByUnit[\\\"totalEntries\\\"] + feb1EntriesExitsByUnit[\\\"totalExits\\\"]\\n)\\n\\n# Find the busiest station\\nbusiestUnit = feb1EntriesExitsByUnit[\\n    feb1EntriesExitsByUnit[\\\"busyness\\\"] == feb1EntriesExitsByUnit[\\\"busyness\\\"].max()\\n]\\n\\nprint(busiestUnit)\";\n                var nbb_formatted_code = \"# What turnstile was the busiest on that date?\\n# Assumption: turnstile = UNIT\\n\\n# Calculate for total number of entries and exits per UNIT on Feb 1, 2013\\nfeb1EntriesExitsByUnit = feb1Dataset.groupby([\\\"UNIT\\\"], as_index=False).agg(\\n    totalEntries=(\\\"dailyEntries\\\", \\\"sum\\\"), totalExits=(\\\"dailyExits\\\", \\\"sum\\\")\\n)\\n# Sum total entries and exits per station on Feb 1, 2013\\nfeb1EntriesExitsByUnit[\\\"busyness\\\"] = (\\n    feb1EntriesExitsByUnit[\\\"totalEntries\\\"] + feb1EntriesExitsByUnit[\\\"totalExits\\\"]\\n)\\n\\n# Find the busiest station\\nbusiestUnit = feb1EntriesExitsByUnit[\\n    feb1EntriesExitsByUnit[\\\"busyness\\\"] == feb1EntriesExitsByUnit[\\\"busyness\\\"].max()\\n]\\n\\nprint(busiestUnit)\";\n                var nbb_cells = Jupyter.notebook.get_cells();\n                for (var i = 0; i < nbb_cells.length; ++i) {\n                    if (nbb_cells[i].input_prompt_number == nbb_cell_id) {\n                        if (nbb_cells[i].get_text() == nbb_unformatted_code) {\n                             nbb_cells[i].set_text(nbb_formatted_code);\n                        }\n                        break;\n                    }\n                }\n            }, 500);\n            ",
      "text/plain": [
       "<IPython.core.display.Javascript object>"
      ]
     },
     "metadata": {},
     "output_type": "display_data"
    }
   ],
   "source": [
    "# What turnstile was the busiest on that date?\n",
    "# Assumption: turnstile = UNIT\n",
    "\n",
    "# Calculate for total number of entries and exits per UNIT on Feb 1, 2013\n",
    "feb1EntriesExitsByUnit = feb1Dataset.groupby([\"UNIT\"], as_index=False).agg(\n",
    "    totalEntries=(\"dailyEntries\", \"sum\"), totalExits=(\"dailyExits\", \"sum\")\n",
    ")\n",
    "# Sum total entries and exits per station on Feb 1, 2013\n",
    "feb1EntriesExitsByUnit[\"busyness\"] = (\n",
    "    feb1EntriesExitsByUnit[\"totalEntries\"] + feb1EntriesExitsByUnit[\"totalExits\"]\n",
    ")\n",
    "\n",
    "# Find the busiest station\n",
    "busiestUnit = feb1EntriesExitsByUnit[\n",
    "    feb1EntriesExitsByUnit[\"busyness\"] == feb1EntriesExitsByUnit[\"busyness\"].max()\n",
    "]\n",
    "\n",
    "print(busiestUnit)"
   ]
  },
  {
   "cell_type": "markdown",
   "id": "9d685c04",
   "metadata": {},
   "source": [
    "#### What stations have seen the most usage growth/decline in 2013? <a class=\"anchor\" id=\"k-bullet\"></a>\n",
    "There are many ways to interpret growth and decline. I will measure growth/decline as the difference between the busyness between the month of Jan vs the month of Dec 2013."
   ]
  },
  {
   "cell_type": "code",
   "execution_count": 36,
   "id": "fa7969d7",
   "metadata": {},
   "outputs": [
    {
     "name": "stdout",
     "output_type": "stream",
     "text": [
      "The Station with the most DECLINE in 2013:\n",
      "       STATION  growthDecline\n",
      "226  FULTON ST   -36494722288\n",
      "The Station with the most GROWTH in 2013:\n",
      "      STATION  growthDecline\n",
      "199  DYRE AVE    64164512028\n"
     ]
    },
    {
     "data": {
      "application/javascript": "\n            setTimeout(function() {\n                var nbb_cell_id = 36;\n                var nbb_unformatted_code = \"# What stations have seen the most usage growth/decline in 2013?\\n# There are many ways to interpret the above. I will measure growth/decline as the difference between the\\n# busyness between the month of Jan vs the month of Dec 2013.\\n\\n# Copy dataset as to not accidentally change it\\ngrowthDeclineDataset = turnstileDaily\\n\\n# Filter for only 2013 data\\ngrowthDeclineDataset = growthDeclineDataset[\\n    (growthDeclineDataset[\\\"DATE\\\"].dt.year == 2013)\\n]\\n\\n# Create a Jan and Dec only dataset\\njanMonthNum = 1\\ndecMonthNum = 12\\n\\njan_growthDeclineDataset = growthDeclineDataset[\\n    (growthDeclineDataset[\\\"DATE\\\"].dt.month == janMonthNum)\\n]\\ndec_growthDeclineDataset = growthDeclineDataset[\\n    (growthDeclineDataset[\\\"DATE\\\"].dt.month == decMonthNum)\\n]\\n\\n# Calculate busyness as total number of entries and exits per station in jan and dec\\njan_entriesExitsByStation = jan_growthDeclineDataset.groupby(\\n    [\\\"STATION\\\"], as_index=False\\n).agg(totalEntries=(\\\"dailyEntries\\\", \\\"sum\\\"), totalExits=(\\\"dailyExits\\\", \\\"sum\\\"))\\n\\njan_entriesExitsByStation[\\\"busyness\\\"] = (\\n    jan_entriesExitsByStation[\\\"totalEntries\\\"] + jan_entriesExitsByStation[\\\"totalExits\\\"]\\n)\\n\\ndec_entriesExitsByStation = dec_growthDeclineDataset.groupby(\\n    [\\\"STATION\\\"], as_index=False\\n).agg(totalEntries=(\\\"dailyEntries\\\", \\\"sum\\\"), totalExits=(\\\"dailyExits\\\", \\\"sum\\\"))\\n\\ndec_entriesExitsByStation[\\\"busyness\\\"] = (\\n    dec_entriesExitsByStation[\\\"totalEntries\\\"] + dec_entriesExitsByStation[\\\"totalExits\\\"]\\n)\\n\\n\\n# Compare busyness per station of Jan vs. Dec\\n\\n# Join the two datasets\\njanDec_Dataset = pd.merge(\\n    jan_entriesExitsByStation,\\n    dec_entriesExitsByStation,\\n    on=[\\\"STATION\\\"],\\n    how=\\\"inner\\\",\\n    suffixes=[\\\"_jan\\\", \\\"_dec\\\"],\\n)\\n\\n# Calculate growth/decline by finding the difference in busyness\\njanDec_Dataset[\\\"growthDecline\\\"] = janDec_Dataset[\\\"busyness_dec\\\"] - janDec_Dataset[\\\"busyness_jan\\\"]\\n\\n# Drop unused columns for clarity\\njanDec_Dataset = janDec_Dataset.drop(\\n    columns=[\\n        \\\"totalEntries_jan\\\",\\n        \\\"totalExits_jan\\\",\\n        \\\"busyness_jan\\\",\\n        \\\"totalEntries_dec\\\",\\n        \\\"totalExits_dec\\\",\\n        \\\"busyness_dec\\\",\\n    ]\\n)\\n\\n\\n# Station with the most DECLINE (negative busyness from Jan to Dec)\\nstationDecline = janDec_Dataset[\\n    janDec_Dataset[\\\"growthDecline\\\"] == janDec_Dataset[\\\"growthDecline\\\"].min()\\n]\\nprint('The Station with the most DECLINE in 2013:')\\nprint(stationDecline)\\n\\n# Station with the most GROWTH (positive busyness from Jan to Dec)\\nstationGrowth = janDec_Dataset[\\n    janDec_Dataset[\\\"growthDecline\\\"] == janDec_Dataset[\\\"growthDecline\\\"].max()\\n]\\nprint('The Station with the most GROWTH in 2013:')\\nprint(stationGrowth)\";\n                var nbb_formatted_code = \"# What stations have seen the most usage growth/decline in 2013?\\n# There are many ways to interpret the above. I will measure growth/decline as the difference between the\\n# busyness between the month of Jan vs the month of Dec 2013.\\n\\n# Copy dataset as to not accidentally change it\\ngrowthDeclineDataset = turnstileDaily\\n\\n# Filter for only 2013 data\\ngrowthDeclineDataset = growthDeclineDataset[\\n    (growthDeclineDataset[\\\"DATE\\\"].dt.year == 2013)\\n]\\n\\n# Create a Jan and Dec only dataset\\njanMonthNum = 1\\ndecMonthNum = 12\\n\\njan_growthDeclineDataset = growthDeclineDataset[\\n    (growthDeclineDataset[\\\"DATE\\\"].dt.month == janMonthNum)\\n]\\ndec_growthDeclineDataset = growthDeclineDataset[\\n    (growthDeclineDataset[\\\"DATE\\\"].dt.month == decMonthNum)\\n]\\n\\n# Calculate busyness as total number of entries and exits per station in jan and dec\\njan_entriesExitsByStation = jan_growthDeclineDataset.groupby(\\n    [\\\"STATION\\\"], as_index=False\\n).agg(totalEntries=(\\\"dailyEntries\\\", \\\"sum\\\"), totalExits=(\\\"dailyExits\\\", \\\"sum\\\"))\\n\\njan_entriesExitsByStation[\\\"busyness\\\"] = (\\n    jan_entriesExitsByStation[\\\"totalEntries\\\"] + jan_entriesExitsByStation[\\\"totalExits\\\"]\\n)\\n\\ndec_entriesExitsByStation = dec_growthDeclineDataset.groupby(\\n    [\\\"STATION\\\"], as_index=False\\n).agg(totalEntries=(\\\"dailyEntries\\\", \\\"sum\\\"), totalExits=(\\\"dailyExits\\\", \\\"sum\\\"))\\n\\ndec_entriesExitsByStation[\\\"busyness\\\"] = (\\n    dec_entriesExitsByStation[\\\"totalEntries\\\"] + dec_entriesExitsByStation[\\\"totalExits\\\"]\\n)\\n\\n\\n# Compare busyness per station of Jan vs. Dec\\n\\n# Join the two datasets\\njanDec_Dataset = pd.merge(\\n    jan_entriesExitsByStation,\\n    dec_entriesExitsByStation,\\n    on=[\\\"STATION\\\"],\\n    how=\\\"inner\\\",\\n    suffixes=[\\\"_jan\\\", \\\"_dec\\\"],\\n)\\n\\n# Calculate growth/decline by finding the difference in busyness\\njanDec_Dataset[\\\"growthDecline\\\"] = (\\n    janDec_Dataset[\\\"busyness_dec\\\"] - janDec_Dataset[\\\"busyness_jan\\\"]\\n)\\n\\n# Drop unused columns for clarity\\njanDec_Dataset = janDec_Dataset.drop(\\n    columns=[\\n        \\\"totalEntries_jan\\\",\\n        \\\"totalExits_jan\\\",\\n        \\\"busyness_jan\\\",\\n        \\\"totalEntries_dec\\\",\\n        \\\"totalExits_dec\\\",\\n        \\\"busyness_dec\\\",\\n    ]\\n)\\n\\n\\n# Station with the most DECLINE (negative busyness from Jan to Dec)\\nstationDecline = janDec_Dataset[\\n    janDec_Dataset[\\\"growthDecline\\\"] == janDec_Dataset[\\\"growthDecline\\\"].min()\\n]\\nprint(\\\"The Station with the most DECLINE in 2013:\\\")\\nprint(stationDecline)\\n\\n# Station with the most GROWTH (positive busyness from Jan to Dec)\\nstationGrowth = janDec_Dataset[\\n    janDec_Dataset[\\\"growthDecline\\\"] == janDec_Dataset[\\\"growthDecline\\\"].max()\\n]\\nprint(\\\"The Station with the most GROWTH in 2013:\\\")\\nprint(stationGrowth)\";\n                var nbb_cells = Jupyter.notebook.get_cells();\n                for (var i = 0; i < nbb_cells.length; ++i) {\n                    if (nbb_cells[i].input_prompt_number == nbb_cell_id) {\n                        if (nbb_cells[i].get_text() == nbb_unformatted_code) {\n                             nbb_cells[i].set_text(nbb_formatted_code);\n                        }\n                        break;\n                    }\n                }\n            }, 500);\n            ",
      "text/plain": [
       "<IPython.core.display.Javascript object>"
      ]
     },
     "metadata": {},
     "output_type": "display_data"
    }
   ],
   "source": [
    "# What stations have seen the most usage growth/decline in 2013?\n",
    "# There are many ways to interpret the above. I will measure growth/decline as the difference between the\n",
    "# busyness between the month of Jan vs the month of Dec 2013.\n",
    "\n",
    "# Copy dataset as to not accidentally change it\n",
    "growthDeclineDataset = turnstileDaily\n",
    "\n",
    "# Filter for only 2013 data\n",
    "growthDeclineDataset = growthDeclineDataset[\n",
    "    (growthDeclineDataset[\"DATE\"].dt.year == 2013)\n",
    "]\n",
    "\n",
    "# Create a Jan and Dec only dataset\n",
    "janMonthNum = 1\n",
    "decMonthNum = 12\n",
    "\n",
    "jan_growthDeclineDataset = growthDeclineDataset[\n",
    "    (growthDeclineDataset[\"DATE\"].dt.month == janMonthNum)\n",
    "]\n",
    "dec_growthDeclineDataset = growthDeclineDataset[\n",
    "    (growthDeclineDataset[\"DATE\"].dt.month == decMonthNum)\n",
    "]\n",
    "\n",
    "# Calculate busyness as total number of entries and exits per station in jan and dec\n",
    "jan_entriesExitsByStation = jan_growthDeclineDataset.groupby(\n",
    "    [\"STATION\"], as_index=False\n",
    ").agg(totalEntries=(\"dailyEntries\", \"sum\"), totalExits=(\"dailyExits\", \"sum\"))\n",
    "\n",
    "jan_entriesExitsByStation[\"busyness\"] = (\n",
    "    jan_entriesExitsByStation[\"totalEntries\"] + jan_entriesExitsByStation[\"totalExits\"]\n",
    ")\n",
    "\n",
    "dec_entriesExitsByStation = dec_growthDeclineDataset.groupby(\n",
    "    [\"STATION\"], as_index=False\n",
    ").agg(totalEntries=(\"dailyEntries\", \"sum\"), totalExits=(\"dailyExits\", \"sum\"))\n",
    "\n",
    "dec_entriesExitsByStation[\"busyness\"] = (\n",
    "    dec_entriesExitsByStation[\"totalEntries\"] + dec_entriesExitsByStation[\"totalExits\"]\n",
    ")\n",
    "\n",
    "\n",
    "# Compare busyness per station of Jan vs. Dec\n",
    "\n",
    "# Join the two datasets\n",
    "janDec_Dataset = pd.merge(\n",
    "    jan_entriesExitsByStation,\n",
    "    dec_entriesExitsByStation,\n",
    "    on=[\"STATION\"],\n",
    "    how=\"inner\",\n",
    "    suffixes=[\"_jan\", \"_dec\"],\n",
    ")\n",
    "\n",
    "# Calculate growth/decline by finding the difference in busyness\n",
    "janDec_Dataset[\"growthDecline\"] = (\n",
    "    janDec_Dataset[\"busyness_dec\"] - janDec_Dataset[\"busyness_jan\"]\n",
    ")\n",
    "\n",
    "# Drop unused columns for clarity\n",
    "janDec_Dataset = janDec_Dataset.drop(\n",
    "    columns=[\n",
    "        \"totalEntries_jan\",\n",
    "        \"totalExits_jan\",\n",
    "        \"busyness_jan\",\n",
    "        \"totalEntries_dec\",\n",
    "        \"totalExits_dec\",\n",
    "        \"busyness_dec\",\n",
    "    ]\n",
    ")\n",
    "\n",
    "\n",
    "# Station with the most DECLINE (negative busyness difference from Jan to Dec)\n",
    "stationDecline = janDec_Dataset[\n",
    "    janDec_Dataset[\"growthDecline\"] == janDec_Dataset[\"growthDecline\"].min()\n",
    "]\n",
    "print(\"The Station with the most DECLINE in 2013:\")\n",
    "print(stationDecline)\n",
    "\n",
    "# Station with the most GROWTH (positive busyness difference from Jan to Dec)\n",
    "stationGrowth = janDec_Dataset[\n",
    "    janDec_Dataset[\"growthDecline\"] == janDec_Dataset[\"growthDecline\"].max()\n",
    "]\n",
    "print(\"The Station with the most GROWTH in 2013:\")\n",
    "print(stationGrowth)"
   ]
  },
  {
   "cell_type": "markdown",
   "id": "c4857e24",
   "metadata": {},
   "source": [
    "#### What dates are the least busy? Could you identify days on which stations were not operating at full capacity or closed entirely? <a class=\"anchor\" id=\"l-bullet\"></a>\n",
    "</br>\n",
    "Assumption: Scope is still 2013."
   ]
  },
  {
   "cell_type": "code",
   "execution_count": 24,
   "id": "74fd3d0c",
   "metadata": {},
   "outputs": [
    {
     "name": "stdout",
     "output_type": "stream",
     "text": [
      "         DATE  totalEntries  totalExits     busyness\n",
      "74 2013-03-16   17765147879  9951231837  27716379716\n"
     ]
    },
    {
     "data": {
      "application/javascript": "\n            setTimeout(function() {\n                var nbb_cell_id = 24;\n                var nbb_unformatted_code = \"# What dates are the least busy?\\n\\n# Filter for only 2013 data\\ndataset2013 = turnstileDaily[(turnstileDaily[\\\"DATE\\\"].dt.year == 2013)]\\n\\n## Remove days where stations were not operating at full capacity or were closed entirely.\\n\\n# Assumption: 0 dailyEntries or 0 dailyExits indicates the station that day was closed entirely\\ndataset2013 = dataset2013.loc[\\n    (dataset2013[\\\"dailyEntries\\\"] != 0) | (dataset2013[\\\"dailyExits\\\"] != 0)\\n]\\n\\n# Assumption: median dailyEntries and median dailyExits indicates 'full capacity'\\nmedianStationCapacity = dataset2013.groupby([\\\"STATION\\\"], as_index=False).agg(\\n    medianEntries=(\\\"dailyEntries\\\", \\\"median\\\"), medianExits=(\\\"dailyExits\\\", \\\"median\\\")\\n)\\n# Join 2013 dataset with findings from median station capacity dataset\\n# Only keep records where the daily entries was greater than or equal to median entries for that station\\n# or where the daily exits was greater than or equal to median exits for that station\\nenriched2013 = pd.merge(\\n    dataset2013,\\n    medianStationCapacity,\\n    on=[\\\"STATION\\\"],\\n    how=\\\"inner\\\",\\n    suffixes=[\\\"_l\\\", \\\"_r\\\"],\\n)\\n\\nenriched2013[\\\"keepFlag\\\"] = np.where(\\n    (enriched2013[\\\"dailyEntries\\\"] >= enriched2013[\\\"medianEntries\\\"])\\n    | (enriched2013[\\\"dailyExits\\\"] >= enriched2013[\\\"medianExits\\\"]),\\n    True,\\n    False,\\n)\\n\\nenriched2013 = enriched2013.loc[(enriched2013[\\\"keepFlag\\\"] == True)]\\n\\n\\n# Calculate busyness per day by summing total entries and exits per day\\ndailybusyness = dataset2013.groupby([\\\"DATE\\\"], as_index=False).agg(\\n    totalEntries=(\\\"dailyEntries\\\", \\\"sum\\\"), totalExits=(\\\"dailyExits\\\", \\\"sum\\\")\\n)\\n\\n\\ndailybusyness[\\\"busyness\\\"] = dailybusyness[\\\"totalEntries\\\"] + dailybusyness[\\\"totalExits\\\"]\\n\\ndailybusyness = dailybusyness.sort_values(by=\\\"busyness\\\", ascending=False)\\n\\n# The least busy day\\nleastBusyDay = dailybusyness[\\n    dailybusyness[\\\"busyness\\\"] == dailybusyness[\\\"busyness\\\"].min()\\n]\\n\\nprint(leastBusyDay)\";\n                var nbb_formatted_code = \"# What dates are the least busy?\\n\\n# Filter for only 2013 data\\ndataset2013 = turnstileDaily[(turnstileDaily[\\\"DATE\\\"].dt.year == 2013)]\\n\\n## Remove days where stations were not operating at full capacity or were closed entirely.\\n\\n# Assumption: 0 dailyEntries or 0 dailyExits indicates the station that day was closed entirely\\ndataset2013 = dataset2013.loc[\\n    (dataset2013[\\\"dailyEntries\\\"] != 0) | (dataset2013[\\\"dailyExits\\\"] != 0)\\n]\\n\\n# Assumption: median dailyEntries and median dailyExits indicates 'full capacity'\\nmedianStationCapacity = dataset2013.groupby([\\\"STATION\\\"], as_index=False).agg(\\n    medianEntries=(\\\"dailyEntries\\\", \\\"median\\\"), medianExits=(\\\"dailyExits\\\", \\\"median\\\")\\n)\\n# Join 2013 dataset with findings from median station capacity dataset\\n# Only keep records where the daily entries was greater than or equal to median entries for that station\\n# or where the daily exits was greater than or equal to median exits for that station\\nenriched2013 = pd.merge(\\n    dataset2013,\\n    medianStationCapacity,\\n    on=[\\\"STATION\\\"],\\n    how=\\\"inner\\\",\\n    suffixes=[\\\"_l\\\", \\\"_r\\\"],\\n)\\n\\nenriched2013[\\\"keepFlag\\\"] = np.where(\\n    (enriched2013[\\\"dailyEntries\\\"] >= enriched2013[\\\"medianEntries\\\"])\\n    | (enriched2013[\\\"dailyExits\\\"] >= enriched2013[\\\"medianExits\\\"]),\\n    True,\\n    False,\\n)\\n\\nenriched2013 = enriched2013.loc[(enriched2013[\\\"keepFlag\\\"] == True)]\\n\\n\\n# Calculate busyness per day by summing total entries and exits per day\\ndailybusyness = dataset2013.groupby([\\\"DATE\\\"], as_index=False).agg(\\n    totalEntries=(\\\"dailyEntries\\\", \\\"sum\\\"), totalExits=(\\\"dailyExits\\\", \\\"sum\\\")\\n)\\n\\n\\ndailybusyness[\\\"busyness\\\"] = dailybusyness[\\\"totalEntries\\\"] + dailybusyness[\\\"totalExits\\\"]\\n\\ndailybusyness = dailybusyness.sort_values(by=\\\"busyness\\\", ascending=False)\\n\\n# The least busy day\\nleastBusyDay = dailybusyness[\\n    dailybusyness[\\\"busyness\\\"] == dailybusyness[\\\"busyness\\\"].min()\\n]\\n\\nprint(leastBusyDay)\";\n                var nbb_cells = Jupyter.notebook.get_cells();\n                for (var i = 0; i < nbb_cells.length; ++i) {\n                    if (nbb_cells[i].input_prompt_number == nbb_cell_id) {\n                        if (nbb_cells[i].get_text() == nbb_unformatted_code) {\n                             nbb_cells[i].set_text(nbb_formatted_code);\n                        }\n                        break;\n                    }\n                }\n            }, 500);\n            ",
      "text/plain": [
       "<IPython.core.display.Javascript object>"
      ]
     },
     "metadata": {},
     "output_type": "display_data"
    }
   ],
   "source": [
    "# What dates are the least busy?\n",
    "\n",
    "# Filter for only 2013 data\n",
    "dataset2013 = turnstileDaily[(turnstileDaily[\"DATE\"].dt.year == 2013)]\n",
    "\n",
    "## Remove days where stations were not operating at full capacity or were closed entirely.\n",
    "\n",
    "# Assumption: 0 dailyEntries or 0 dailyExits indicates the station that day was closed entirely\n",
    "dataset2013 = dataset2013.loc[\n",
    "    (dataset2013[\"dailyEntries\"] != 0) | (dataset2013[\"dailyExits\"] != 0)\n",
    "]\n",
    "\n",
    "# Assumption: median dailyEntries and median dailyExits indicates 'full capacity'\n",
    "medianStationCapacity = dataset2013.groupby([\"STATION\"], as_index=False).agg(\n",
    "    medianEntries=(\"dailyEntries\", \"median\"), medianExits=(\"dailyExits\", \"median\")\n",
    ")\n",
    "\n",
    "# Join 2013 dataset with findings from median station capacity dataset\n",
    "# Only keep records where the daily entries was greater than or equal to median entries for that station\n",
    "# or where the daily exits was greater than or equal to median exits for that station\n",
    "enriched2013 = pd.merge(\n",
    "    dataset2013,\n",
    "    medianStationCapacity,\n",
    "    on=[\"STATION\"],\n",
    "    how=\"inner\",\n",
    "    suffixes=[\"_l\", \"_r\"],\n",
    ")\n",
    "\n",
    "enriched2013[\"keepFlag\"] = np.where(\n",
    "    (enriched2013[\"dailyEntries\"] >= enriched2013[\"medianEntries\"])\n",
    "    | (enriched2013[\"dailyExits\"] >= enriched2013[\"medianExits\"]),\n",
    "    True,\n",
    "    False,\n",
    ")\n",
    "\n",
    "enriched2013 = enriched2013.loc[(enriched2013[\"keepFlag\"] == True)]\n",
    "\n",
    "\n",
    "# Calculate busyness per day by summing total entries and exits per day\n",
    "dailybusyness = dataset2013.groupby([\"DATE\"], as_index=False).agg(\n",
    "    totalEntries=(\"dailyEntries\", \"sum\"), totalExits=(\"dailyExits\", \"sum\")\n",
    ")\n",
    "\n",
    "\n",
    "dailybusyness[\"busyness\"] = dailybusyness[\"totalEntries\"] + dailybusyness[\"totalExits\"]\n",
    "\n",
    "dailybusyness = dailybusyness.sort_values(by=\"busyness\", ascending=False)\n",
    "\n",
    "# The least busy day\n",
    "leastBusyDay = dailybusyness[\n",
    "    dailybusyness[\"busyness\"] == dailybusyness[\"busyness\"].min()\n",
    "]\n",
    "\n",
    "print(leastBusyDay)"
   ]
  },
  {
   "cell_type": "markdown",
   "id": "fdb1d31b",
   "metadata": {},
   "source": [
    "# Visualization  <a class=\"anchor\" id=\"eighth-bullet\"></a>\n",
    "\n",
    "### Table of Contents:\n",
    "* [Plot the daily row counts for data files in Q1 2013.](#m-bullet)\n",
    "* [Plot the daily total number of entries & exits across the system for Q1 2013.](#n-bullet)\n",
    "* [Plot the mean and standard deviation of the daily total number of entries &amp; exits for each month in Q1 2013 for station 34 ST-PENN STA.](#o-bullet)"
   ]
  },
  {
   "cell_type": "code",
   "execution_count": 25,
   "id": "0aee6e0c",
   "metadata": {},
   "outputs": [
    {
     "data": {
      "application/javascript": "\n            setTimeout(function() {\n                var nbb_cell_id = 25;\n                var nbb_unformatted_code = \"# Filter dataset for only Q1 2013\\ndatasetQ12013 = turnstileDaily[(turnstileDaily[\\\"DATE\\\"].dt.year == 2013)]\\ndatasetQ12013 = datasetQ12013[(datasetQ12013[\\\"DATE\\\"].dt.quarter.isin([1]))]\";\n                var nbb_formatted_code = \"# Filter dataset for only Q1 2013\\ndatasetQ12013 = turnstileDaily[(turnstileDaily[\\\"DATE\\\"].dt.year == 2013)]\\ndatasetQ12013 = datasetQ12013[(datasetQ12013[\\\"DATE\\\"].dt.quarter.isin([1]))]\";\n                var nbb_cells = Jupyter.notebook.get_cells();\n                for (var i = 0; i < nbb_cells.length; ++i) {\n                    if (nbb_cells[i].input_prompt_number == nbb_cell_id) {\n                        if (nbb_cells[i].get_text() == nbb_unformatted_code) {\n                             nbb_cells[i].set_text(nbb_formatted_code);\n                        }\n                        break;\n                    }\n                }\n            }, 500);\n            ",
      "text/plain": [
       "<IPython.core.display.Javascript object>"
      ]
     },
     "metadata": {},
     "output_type": "display_data"
    }
   ],
   "source": [
    "# Filter dataset for only Q1 2013\n",
    "datasetQ12013 = turnstileDaily[(turnstileDaily[\"DATE\"].dt.year == 2013)]\n",
    "datasetQ12013 = datasetQ12013[(datasetQ12013[\"DATE\"].dt.quarter.isin([1]))]"
   ]
  },
  {
   "cell_type": "markdown",
   "id": "2f0715e7",
   "metadata": {},
   "source": [
    "#### Plot the daily row counts for data files in Q1 2013 <a class=\"anchor\" id=\"m-bullet\"></a>"
   ]
  },
  {
   "cell_type": "code",
   "execution_count": 26,
   "id": "3e99c881",
   "metadata": {},
   "outputs": [
    {
     "data": {
      "image/png": "[encoded data removed]",
      "text/plain": [
       "<Figure size 640x480 with 1 Axes>"
      ]
     },
     "metadata": {},
     "output_type": "display_data"
    },
    {
     "data": {
      "application/javascript": "\n            setTimeout(function() {\n                var nbb_cell_id = 26;\n                var nbb_unformatted_code = \"# Calculate the count how many rows there are per day\\ndailyRowCountDataset = datasetQ12013.groupby([\\\"DATE\\\"], as_index=False).agg(\\n    dailyRowCount=(\\\"DATE\\\", \\\"count\\\")\\n)\\n\\n# Plot as a line graph with date on the x-axis\\nplt.style.use(\\\"seaborn-v0_8-deep\\\")\\n\\nplt.plot(\\n    dailyRowCountDataset[\\\"DATE\\\"],\\n    dailyRowCountDataset[\\\"dailyRowCount\\\"],\\n    marker=\\\".\\\",\\n    label=\\\"Rows\\\",\\n)\\n\\nplt.title(\\\"Daily Row Counts in Q1 2013\\\")\\nplt.xlabel(\\\"Day\\\")\\nplt.ylabel(\\\"Count of Rows\\\")\\n\\n\\nplt.xticks(rotation=90)\\n\\nplt.legend(loc=\\\"best\\\")\\nplt.grid(True)\";\n                var nbb_formatted_code = \"# Calculate the count how many rows there are per day\\ndailyRowCountDataset = datasetQ12013.groupby([\\\"DATE\\\"], as_index=False).agg(\\n    dailyRowCount=(\\\"DATE\\\", \\\"count\\\")\\n)\\n\\n# Plot as a line graph with date on the x-axis\\nplt.style.use(\\\"seaborn-v0_8-deep\\\")\\n\\nplt.plot(\\n    dailyRowCountDataset[\\\"DATE\\\"],\\n    dailyRowCountDataset[\\\"dailyRowCount\\\"],\\n    marker=\\\".\\\",\\n    label=\\\"Rows\\\",\\n)\\n\\nplt.title(\\\"Daily Row Counts in Q1 2013\\\")\\nplt.xlabel(\\\"Day\\\")\\nplt.ylabel(\\\"Count of Rows\\\")\\n\\n\\nplt.xticks(rotation=90)\\n\\nplt.legend(loc=\\\"best\\\")\\nplt.grid(True)\";\n                var nbb_cells = Jupyter.notebook.get_cells();\n                for (var i = 0; i < nbb_cells.length; ++i) {\n                    if (nbb_cells[i].input_prompt_number == nbb_cell_id) {\n                        if (nbb_cells[i].get_text() == nbb_unformatted_code) {\n                             nbb_cells[i].set_text(nbb_formatted_code);\n                        }\n                        break;\n                    }\n                }\n            }, 500);\n            ",
      "text/plain": [
       "<IPython.core.display.Javascript object>"
      ]
     },
     "metadata": {},
     "output_type": "display_data"
    }
   ],
   "source": [
    "# Calculate the count how many rows there are per day\n",
    "dailyRowCountDataset = datasetQ12013.groupby([\"DATE\"], as_index=False).agg(\n",
    "    dailyRowCount=(\"DATE\", \"count\")\n",
    ")\n",
    "\n",
    "# Plot as a line graph with date on the x-axis\n",
    "plt.style.use(\"seaborn-v0_8-deep\")\n",
    "\n",
    "plt.plot(\n",
    "    dailyRowCountDataset[\"DATE\"],\n",
    "    dailyRowCountDataset[\"dailyRowCount\"],\n",
    "    marker=\".\",\n",
    "    label=\"Rows\",\n",
    ")\n",
    "\n",
    "plt.title(\"Daily Row Counts in Q1 2013\")\n",
    "plt.xlabel(\"Day\")\n",
    "plt.ylabel(\"Count of Rows\")\n",
    "\n",
    "\n",
    "plt.xticks(rotation=90)\n",
    "\n",
    "plt.legend(loc=\"best\")\n",
    "plt.grid(True)"
   ]
  },
  {
   "cell_type": "markdown",
   "id": "f0984335",
   "metadata": {},
   "source": [
    "#### Plot the daily total number of entries & exits across the system for Q1 2013. <a class=\"anchor\" id=\"n-bullet\"></a>"
   ]
  },
  {
   "cell_type": "code",
   "execution_count": 27,
   "id": "87a1a9f5",
   "metadata": {},
   "outputs": [
    {
     "data": {
      "image/png": "[encoded data removed]",
      "text/plain": [
       "<Figure size 640x480 with 1 Axes>"
      ]
     },
     "metadata": {},
     "output_type": "display_data"
    },
    {
     "data": {
      "application/javascript": "\n            setTimeout(function() {\n                var nbb_cell_id = 27;\n                var nbb_unformatted_code = \"# Calculate entries & exits per day\\ndailyEntriesExitsDataset = datasetQ12013.groupby([\\\"DATE\\\"], as_index=False).agg(\\n    totalEntries=(\\\"dailyEntries\\\", \\\"sum\\\"), totalExits=(\\\"dailyExits\\\", \\\"sum\\\")\\n)\\n\\n# Plot as a double line chart\\nplt.style.use(\\\"seaborn-v0_8-deep\\\")\\n\\nplt.plot(\\n    dailyEntriesExitsDataset[\\\"DATE\\\"],\\n    dailyEntriesExitsDataset[\\\"totalEntries\\\"],\\n    marker=\\\".\\\",\\n    label=\\\"Entries\\\",\\n)\\nplt.plot(\\n    dailyEntriesExitsDataset[\\\"DATE\\\"],\\n    dailyEntriesExitsDataset[\\\"totalExits\\\"],\\n    marker=\\\".\\\",\\n    label=\\\"Exits\\\",\\n)\\n\\nplt.title(\\\"Daily Entries & Exits in Q1 2013\\\")\\nplt.xlabel(\\\"Day\\\")\\nplt.ylabel(\\\"Count of Entries & Exits\\\")\\n\\nplt.xticks(rotation=90)\\n\\nplt.legend(loc=\\\"best\\\")\\nplt.grid(True)\\n# plt.tight_layout()\\n# plt.show\";\n                var nbb_formatted_code = \"# Calculate entries & exits per day\\ndailyEntriesExitsDataset = datasetQ12013.groupby([\\\"DATE\\\"], as_index=False).agg(\\n    totalEntries=(\\\"dailyEntries\\\", \\\"sum\\\"), totalExits=(\\\"dailyExits\\\", \\\"sum\\\")\\n)\\n\\n# Plot as a double line chart\\nplt.style.use(\\\"seaborn-v0_8-deep\\\")\\n\\nplt.plot(\\n    dailyEntriesExitsDataset[\\\"DATE\\\"],\\n    dailyEntriesExitsDataset[\\\"totalEntries\\\"],\\n    marker=\\\".\\\",\\n    label=\\\"Entries\\\",\\n)\\nplt.plot(\\n    dailyEntriesExitsDataset[\\\"DATE\\\"],\\n    dailyEntriesExitsDataset[\\\"totalExits\\\"],\\n    marker=\\\".\\\",\\n    label=\\\"Exits\\\",\\n)\\n\\nplt.title(\\\"Daily Entries & Exits in Q1 2013\\\")\\nplt.xlabel(\\\"Day\\\")\\nplt.ylabel(\\\"Count of Entries & Exits\\\")\\n\\nplt.xticks(rotation=90)\\n\\nplt.legend(loc=\\\"best\\\")\\nplt.grid(True)\\n# plt.tight_layout()\\n# plt.show\";\n                var nbb_cells = Jupyter.notebook.get_cells();\n                for (var i = 0; i < nbb_cells.length; ++i) {\n                    if (nbb_cells[i].input_prompt_number == nbb_cell_id) {\n                        if (nbb_cells[i].get_text() == nbb_unformatted_code) {\n                             nbb_cells[i].set_text(nbb_formatted_code);\n                        }\n                        break;\n                    }\n                }\n            }, 500);\n            ",
      "text/plain": [
       "<IPython.core.display.Javascript object>"
      ]
     },
     "metadata": {},
     "output_type": "display_data"
    }
   ],
   "source": [
    "# Calculate entries & exits per day\n",
    "dailyEntriesExitsDataset = datasetQ12013.groupby([\"DATE\"], as_index=False).agg(\n",
    "    totalEntries=(\"dailyEntries\", \"sum\"), totalExits=(\"dailyExits\", \"sum\")\n",
    ")\n",
    "\n",
    "# Plot as a double line chart\n",
    "plt.style.use(\"seaborn-v0_8-deep\")\n",
    "\n",
    "plt.plot(\n",
    "    dailyEntriesExitsDataset[\"DATE\"],\n",
    "    dailyEntriesExitsDataset[\"totalEntries\"],\n",
    "    marker=\".\",\n",
    "    label=\"Entries\",\n",
    ")\n",
    "plt.plot(\n",
    "    dailyEntriesExitsDataset[\"DATE\"],\n",
    "    dailyEntriesExitsDataset[\"totalExits\"],\n",
    "    marker=\".\",\n",
    "    label=\"Exits\",\n",
    ")\n",
    "\n",
    "plt.title(\"Daily Entries & Exits in Q1 2013\")\n",
    "plt.xlabel(\"Day\")\n",
    "plt.ylabel(\"Count of Entries & Exits\")\n",
    "\n",
    "plt.xticks(rotation=90)\n",
    "\n",
    "plt.legend(loc=\"best\")\n",
    "plt.grid(True)\n",
    "# plt.tight_layout()\n",
    "# plt.show"
   ]
  },
  {
   "cell_type": "markdown",
   "id": "09d4ab42",
   "metadata": {},
   "source": [
    "#### Plot the mean and standard deviation of the daily total number of entries &amp; exits for each month in Q1 2013 for station 34 ST-PENN STA <a class=\"anchor\" id=\"o-bullet\"></a>"
   ]
  },
  {
   "cell_type": "code",
   "execution_count": 28,
   "id": "3e1df3c7",
   "metadata": {},
   "outputs": [
    {
     "data": {
      "application/javascript": "\n            setTimeout(function() {\n                var nbb_cell_id = 28;\n                var nbb_unformatted_code = \"# Filter for only records where the station is Penn Station\\ndailyEE_Penn = datasetQ12013[datasetQ12013[\\\"STATION\\\"] == \\\"34 ST-PENN STA\\\"]\\n\\n# Calculate daily entries and exits\\ndailyEE_Penn = dailyEE_Penn.groupby([\\\"DATE\\\"], as_index=False).agg(\\n    totalEntries=(\\\"dailyEntries\\\", \\\"sum\\\"), totalExits=(\\\"dailyExits\\\", \\\"sum\\\")\\n)\\n\\n# Add new field Month\\ndailyEE_Penn[\\\"MonthNum\\\"] = dailyEE_Penn[\\\"DATE\\\"].dt.month\\ndailyEE_Penn[\\\"Month\\\"] = dailyEE_Penn[\\\"DATE\\\"].dt.month_name()\\n# print(dailyEE_Penn)\\n\\n# Calculate mean and standard deviation per month for total entries and total exits\\ndailyEE_Penn = dailyEE_Penn.groupby([\\\"MonthNum\\\", \\\"Month\\\"], as_index=False).agg(\\n    meanEntries=(\\\"totalEntries\\\", \\\"mean\\\"),\\n    meanExits=(\\\"totalExits\\\", \\\"mean\\\"),\\n    stdEntries=(\\\"totalEntries\\\", \\\"std\\\"),\\n    stdExits=(\\\"totalExits\\\", \\\"std\\\"),\\n)\\n# Change datatypes from float to int\\ndailyEE_Penn = dailyEE_Penn.astype(\\n    {\\n        \\\"MonthNum\\\": \\\"int\\\",\\n        \\\"Month\\\": \\\"string\\\",\\n        \\\"meanEntries\\\": \\\"int\\\",\\n        \\\"meanExits\\\": \\\"int\\\",\\n        \\\"stdEntries\\\": \\\"int\\\",\\n        \\\"stdExits\\\": \\\"int\\\",\\n    }\\n)\\n\\n# print(dailyEE_Penn.dtypes)\";\n                var nbb_formatted_code = \"# Filter for only records where the station is Penn Station\\ndailyEE_Penn = datasetQ12013[datasetQ12013[\\\"STATION\\\"] == \\\"34 ST-PENN STA\\\"]\\n\\n# Calculate daily entries and exits\\ndailyEE_Penn = dailyEE_Penn.groupby([\\\"DATE\\\"], as_index=False).agg(\\n    totalEntries=(\\\"dailyEntries\\\", \\\"sum\\\"), totalExits=(\\\"dailyExits\\\", \\\"sum\\\")\\n)\\n\\n# Add new field Month\\ndailyEE_Penn[\\\"MonthNum\\\"] = dailyEE_Penn[\\\"DATE\\\"].dt.month\\ndailyEE_Penn[\\\"Month\\\"] = dailyEE_Penn[\\\"DATE\\\"].dt.month_name()\\n# print(dailyEE_Penn)\\n\\n# Calculate mean and standard deviation per month for total entries and total exits\\ndailyEE_Penn = dailyEE_Penn.groupby([\\\"MonthNum\\\", \\\"Month\\\"], as_index=False).agg(\\n    meanEntries=(\\\"totalEntries\\\", \\\"mean\\\"),\\n    meanExits=(\\\"totalExits\\\", \\\"mean\\\"),\\n    stdEntries=(\\\"totalEntries\\\", \\\"std\\\"),\\n    stdExits=(\\\"totalExits\\\", \\\"std\\\"),\\n)\\n# Change datatypes from float to int\\ndailyEE_Penn = dailyEE_Penn.astype(\\n    {\\n        \\\"MonthNum\\\": \\\"int\\\",\\n        \\\"Month\\\": \\\"string\\\",\\n        \\\"meanEntries\\\": \\\"int\\\",\\n        \\\"meanExits\\\": \\\"int\\\",\\n        \\\"stdEntries\\\": \\\"int\\\",\\n        \\\"stdExits\\\": \\\"int\\\",\\n    }\\n)\\n\\n# print(dailyEE_Penn.dtypes)\";\n                var nbb_cells = Jupyter.notebook.get_cells();\n                for (var i = 0; i < nbb_cells.length; ++i) {\n                    if (nbb_cells[i].input_prompt_number == nbb_cell_id) {\n                        if (nbb_cells[i].get_text() == nbb_unformatted_code) {\n                             nbb_cells[i].set_text(nbb_formatted_code);\n                        }\n                        break;\n                    }\n                }\n            }, 500);\n            ",
      "text/plain": [
       "<IPython.core.display.Javascript object>"
      ]
     },
     "metadata": {},
     "output_type": "display_data"
    }
   ],
   "source": [
    "# Filter for only records where the station is Penn Station\n",
    "dailyEE_Penn = datasetQ12013[datasetQ12013[\"STATION\"] == \"34 ST-PENN STA\"]\n",
    "\n",
    "# Calculate daily entries and exits\n",
    "dailyEE_Penn = dailyEE_Penn.groupby([\"DATE\"], as_index=False).agg(\n",
    "    totalEntries=(\"dailyEntries\", \"sum\"), totalExits=(\"dailyExits\", \"sum\")\n",
    ")\n",
    "\n",
    "# Add new field Month\n",
    "dailyEE_Penn[\"MonthNum\"] = dailyEE_Penn[\"DATE\"].dt.month\n",
    "dailyEE_Penn[\"Month\"] = dailyEE_Penn[\"DATE\"].dt.month_name()\n",
    "# print(dailyEE_Penn)\n",
    "\n",
    "# Calculate mean and standard deviation per month for total entries and total exits\n",
    "dailyEE_Penn = dailyEE_Penn.groupby([\"MonthNum\", \"Month\"], as_index=False).agg(\n",
    "    meanEntries=(\"totalEntries\", \"mean\"),\n",
    "    meanExits=(\"totalExits\", \"mean\"),\n",
    "    stdEntries=(\"totalEntries\", \"std\"),\n",
    "    stdExits=(\"totalExits\", \"std\"),\n",
    ")\n",
    "# Change datatypes from float to int\n",
    "dailyEE_Penn = dailyEE_Penn.astype(\n",
    "    {\n",
    "        \"MonthNum\": \"int\",\n",
    "        \"Month\": \"string\",\n",
    "        \"meanEntries\": \"int\",\n",
    "        \"meanExits\": \"int\",\n",
    "        \"stdEntries\": \"int\",\n",
    "        \"stdExits\": \"int\",\n",
    "    }\n",
    ")\n",
    "\n",
    "# print(dailyEE_Penn.dtypes)"
   ]
  },
  {
   "cell_type": "code",
   "execution_count": 29,
   "id": "eb0dfce5",
   "metadata": {},
   "outputs": [
    {
     "data": {
      "image/png": "[encoded data removed]",
      "text/plain": [
       "<Figure size 640x480 with 1 Axes>"
      ]
     },
     "metadata": {},
     "output_type": "display_data"
    },
    {
     "data": {
      "application/javascript": "\n            setTimeout(function() {\n                var nbb_cell_id = 29;\n                var nbb_unformatted_code = \"# Plot as a line chart\\nplt.style.use(\\\"seaborn-v0_8-deep\\\")\\n\\n# Mean Entries\\nplt.plot(\\n    dailyEE_Penn[\\\"Month\\\"],\\n    dailyEE_Penn[\\\"meanEntries\\\"],\\n    marker=\\\".\\\",\\n    color=\\\"darkgreen\\\",\\n    label=\\\"Entries (Mean)\\\",\\n)\\n# Mean Exits\\nplt.plot(\\n    dailyEE_Penn[\\\"Month\\\"],\\n    dailyEE_Penn[\\\"meanExits\\\"],\\n    marker=\\\".\\\",\\n    color=\\\"darkred\\\",\\n    label=\\\"Exits (Mean)\\\",\\n)\\n# Standard Deviation Entries\\nplt.plot(\\n    dailyEE_Penn[\\\"Month\\\"],\\n    dailyEE_Penn[\\\"stdEntries\\\"],\\n    marker=\\\".\\\",\\n    color=\\\"mediumseagreen\\\",\\n    label=\\\"Entries (StdDev)\\\",\\n)\\n# Standard Deviation Exits\\nplt.plot(\\n    dailyEE_Penn[\\\"Month\\\"],\\n    dailyEE_Penn[\\\"stdExits\\\"],\\n    marker=\\\".\\\",\\n    color=\\\"lightcoral\\\",\\n    label=\\\"Exits (StdDev)\\\",\\n)\\n\\n\\nplt.title(\\\"PENN Station Monthly Entries & Exits in Q1 2013\\\")\\nplt.xlabel(\\\"Month\\\")\\nplt.ylabel(\\\"Mean & Standard Deviation\\\")\\n\\n# plt.xticks(rotation=90)\\n\\nplt.legend(loc=\\\"best\\\")\\nplt.grid(True)\\n# plt.tight_layout()\\n# plt.show\";\n                var nbb_formatted_code = \"# Plot as a line chart\\nplt.style.use(\\\"seaborn-v0_8-deep\\\")\\n\\n# Mean Entries\\nplt.plot(\\n    dailyEE_Penn[\\\"Month\\\"],\\n    dailyEE_Penn[\\\"meanEntries\\\"],\\n    marker=\\\".\\\",\\n    color=\\\"darkgreen\\\",\\n    label=\\\"Entries (Mean)\\\",\\n)\\n# Mean Exits\\nplt.plot(\\n    dailyEE_Penn[\\\"Month\\\"],\\n    dailyEE_Penn[\\\"meanExits\\\"],\\n    marker=\\\".\\\",\\n    color=\\\"darkred\\\",\\n    label=\\\"Exits (Mean)\\\",\\n)\\n# Standard Deviation Entries\\nplt.plot(\\n    dailyEE_Penn[\\\"Month\\\"],\\n    dailyEE_Penn[\\\"stdEntries\\\"],\\n    marker=\\\".\\\",\\n    color=\\\"mediumseagreen\\\",\\n    label=\\\"Entries (StdDev)\\\",\\n)\\n# Standard Deviation Exits\\nplt.plot(\\n    dailyEE_Penn[\\\"Month\\\"],\\n    dailyEE_Penn[\\\"stdExits\\\"],\\n    marker=\\\".\\\",\\n    color=\\\"lightcoral\\\",\\n    label=\\\"Exits (StdDev)\\\",\\n)\\n\\n\\nplt.title(\\\"PENN Station Monthly Entries & Exits in Q1 2013\\\")\\nplt.xlabel(\\\"Month\\\")\\nplt.ylabel(\\\"Mean & Standard Deviation\\\")\\n\\n# plt.xticks(rotation=90)\\n\\nplt.legend(loc=\\\"best\\\")\\nplt.grid(True)\\n# plt.tight_layout()\\n# plt.show\";\n                var nbb_cells = Jupyter.notebook.get_cells();\n                for (var i = 0; i < nbb_cells.length; ++i) {\n                    if (nbb_cells[i].input_prompt_number == nbb_cell_id) {\n                        if (nbb_cells[i].get_text() == nbb_unformatted_code) {\n                             nbb_cells[i].set_text(nbb_formatted_code);\n                        }\n                        break;\n                    }\n                }\n            }, 500);\n            ",
      "text/plain": [
       "<IPython.core.display.Javascript object>"
      ]
     },
     "metadata": {},
     "output_type": "display_data"
    }
   ],
   "source": [
    "# Plot as a line chart\n",
    "plt.style.use(\"seaborn-v0_8-deep\")\n",
    "\n",
    "# Mean Entries\n",
    "plt.plot(\n",
    "    dailyEE_Penn[\"Month\"],\n",
    "    dailyEE_Penn[\"meanEntries\"],\n",
    "    marker=\".\",\n",
    "    color=\"darkgreen\",\n",
    "    label=\"Entries (Mean)\",\n",
    ")\n",
    "# Mean Exits\n",
    "plt.plot(\n",
    "    dailyEE_Penn[\"Month\"],\n",
    "    dailyEE_Penn[\"meanExits\"],\n",
    "    marker=\".\",\n",
    "    color=\"darkred\",\n",
    "    label=\"Exits (Mean)\",\n",
    ")\n",
    "# Standard Deviation Entries\n",
    "plt.plot(\n",
    "    dailyEE_Penn[\"Month\"],\n",
    "    dailyEE_Penn[\"stdEntries\"],\n",
    "    marker=\".\",\n",
    "    color=\"mediumseagreen\",\n",
    "    label=\"Entries (StdDev)\",\n",
    ")\n",
    "# Standard Deviation Exits\n",
    "plt.plot(\n",
    "    dailyEE_Penn[\"Month\"],\n",
    "    dailyEE_Penn[\"stdExits\"],\n",
    "    marker=\".\",\n",
    "    color=\"lightcoral\",\n",
    "    label=\"Exits (StdDev)\",\n",
    ")\n",
    "\n",
    "\n",
    "plt.title(\"PENN Station Monthly Entries & Exits in Q1 2013\")\n",
    "plt.xlabel(\"Month\")\n",
    "plt.ylabel(\"Mean & Standard Deviation\")\n",
    "\n",
    "# plt.xticks(rotation=90)\n",
    "\n",
    "plt.legend(loc=\"best\")\n",
    "plt.grid(True)\n",
    "# plt.tight_layout()\n",
    "# plt.show"
   ]
  },
  {
   "cell_type": "markdown",
   "id": "9d78ef2d",
   "metadata": {},
   "source": [
    "# Bonus Question <a class=\"anchor\" id=\"ninth-bullet\"></a>\n",
    "## What hour is the busiest for station CANAL ST in Q1 2013?\n",
    "</br>\n",
    "Since the turnstile functions as like an odometer, the records later in the day are liekly to skew the results. For this analysis, define \"busyness\" as the <i> difference </i> of Entries and Exits. "
   ]
  },
  {
   "cell_type": "code",
   "execution_count": 30,
   "id": "34429e2c",
   "metadata": {},
   "outputs": [
    {
     "data": {
      "application/javascript": "\n            setTimeout(function() {\n                var nbb_cell_id = 30;\n                var nbb_unformatted_code = \"# Bonus: What hour is the busiest for station CANAL ST in Q1 2013?\\n\\n# Duplicate data as to not unintentionally change existing one\\nbonusQ_dataset = dataset_pre2014\\n\\n# Change datatype Date and Time to datetime\\nbonusQ_dataset = bonusQ_dataset.astype({\\\"DATE\\\": \\\"datetime64\\\", \\\"TIME\\\": \\\"datetime64\\\"})\";\n                var nbb_formatted_code = \"# Bonus: What hour is the busiest for station CANAL ST in Q1 2013?\\n\\n# Duplicate data as to not unintentionally change existing one\\nbonusQ_dataset = dataset_pre2014\\n\\n# Change datatype Date and Time to datetime\\nbonusQ_dataset = bonusQ_dataset.astype({\\\"DATE\\\": \\\"datetime64\\\", \\\"TIME\\\": \\\"datetime64\\\"})\";\n                var nbb_cells = Jupyter.notebook.get_cells();\n                for (var i = 0; i < nbb_cells.length; ++i) {\n                    if (nbb_cells[i].input_prompt_number == nbb_cell_id) {\n                        if (nbb_cells[i].get_text() == nbb_unformatted_code) {\n                             nbb_cells[i].set_text(nbb_formatted_code);\n                        }\n                        break;\n                    }\n                }\n            }, 500);\n            ",
      "text/plain": [
       "<IPython.core.display.Javascript object>"
      ]
     },
     "metadata": {},
     "output_type": "display_data"
    }
   ],
   "source": [
    "# Bonus: What hour is the busiest for station CANAL ST in Q1 2013?\n",
    "\n",
    "# Duplicate data as to not unintentionally change existing one\n",
    "bonusQ_dataset = dataset_pre2014\n",
    "\n",
    "# Change datatype Date and Time to datetime\n",
    "bonusQ_dataset = bonusQ_dataset.astype({\"DATE\": \"datetime64\", \"TIME\": \"datetime64\"})"
   ]
  },
  {
   "cell_type": "code",
   "execution_count": 32,
   "id": "4d7fac42",
   "metadata": {},
   "outputs": [
    {
     "data": {
      "application/javascript": "\n            setTimeout(function() {\n                var nbb_cell_id = 32;\n                var nbb_unformatted_code = \"# Enrich dataset with STATION\\nenriched_canalSt_dataset = pd.merge(\\n    bonusQ_dataset,\\n    uC2,\\n    on=[\\\"C/A\\\", \\\"UNIT\\\", \\\"SCP\\\", \\\"DESC\\\"],\\n    how=\\\"left\\\",\\n    suffixes=[\\\"_l\\\", \\\"_r\\\"],\\n)\\n\\n# Filter for only Canal St\\nenriched_canalSt_dataset = enriched_canalSt_dataset[\\n    enriched_canalSt_dataset[\\\"STATION\\\"] == \\\"CANAL ST\\\"\\n]\\n\\n# Calculate total entries and exits per time period\\nenriched_canalSt_dataset = enriched_canalSt_dataset.groupby(\\n    [\\\"TIME\\\"], as_index=False\\n).agg(totalEntries=(\\\"ENTRIES\\\", \\\"sum\\\"), totalExits=(\\\"EXITS\\\", \\\"sum\\\"))\\n\\n# Change datatype to int\\nenriched_canalSt_dataset = enriched_canalSt_dataset.astype(\\n    {\\\"totalEntries\\\": \\\"int\\\", \\\"totalExits\\\": \\\"int\\\"}\\n)\";\n                var nbb_formatted_code = \"# Enrich dataset with STATION\\nenriched_canalSt_dataset = pd.merge(\\n    bonusQ_dataset,\\n    uC2,\\n    on=[\\\"C/A\\\", \\\"UNIT\\\", \\\"SCP\\\", \\\"DESC\\\"],\\n    how=\\\"left\\\",\\n    suffixes=[\\\"_l\\\", \\\"_r\\\"],\\n)\\n\\n# Filter for only Canal St\\nenriched_canalSt_dataset = enriched_canalSt_dataset[\\n    enriched_canalSt_dataset[\\\"STATION\\\"] == \\\"CANAL ST\\\"\\n]\\n\\n# Calculate total entries and exits per time period\\nenriched_canalSt_dataset = enriched_canalSt_dataset.groupby(\\n    [\\\"TIME\\\"], as_index=False\\n).agg(totalEntries=(\\\"ENTRIES\\\", \\\"sum\\\"), totalExits=(\\\"EXITS\\\", \\\"sum\\\"))\\n\\n# Change datatype to int\\nenriched_canalSt_dataset = enriched_canalSt_dataset.astype(\\n    {\\\"totalEntries\\\": \\\"int\\\", \\\"totalExits\\\": \\\"int\\\"}\\n)\";\n                var nbb_cells = Jupyter.notebook.get_cells();\n                for (var i = 0; i < nbb_cells.length; ++i) {\n                    if (nbb_cells[i].input_prompt_number == nbb_cell_id) {\n                        if (nbb_cells[i].get_text() == nbb_unformatted_code) {\n                             nbb_cells[i].set_text(nbb_formatted_code);\n                        }\n                        break;\n                    }\n                }\n            }, 500);\n            ",
      "text/plain": [
       "<IPython.core.display.Javascript object>"
      ]
     },
     "metadata": {},
     "output_type": "display_data"
    }
   ],
   "source": [
    "# Enrich dataset with STATION\n",
    "enriched_canalSt_dataset = pd.merge(\n",
    "    bonusQ_dataset,\n",
    "    uC2,\n",
    "    on=[\"C/A\", \"UNIT\", \"SCP\", \"DESC\"],\n",
    "    how=\"left\",\n",
    "    suffixes=[\"_l\", \"_r\"],\n",
    ")\n",
    "\n",
    "# Filter for only Canal St\n",
    "enriched_canalSt_dataset = enriched_canalSt_dataset[\n",
    "    enriched_canalSt_dataset[\"STATION\"] == \"CANAL ST\"\n",
    "]\n",
    "\n",
    "# Calculate total entries and exits per time period\n",
    "enriched_canalSt_dataset = enriched_canalSt_dataset.groupby(\n",
    "    [\"TIME\"], as_index=False\n",
    ").agg(totalEntries=(\"ENTRIES\", \"sum\"), totalExits=(\"EXITS\", \"sum\"))\n",
    "\n",
    "# Change datatype to int\n",
    "enriched_canalSt_dataset = enriched_canalSt_dataset.astype(\n",
    "    {\"totalEntries\": \"int\", \"totalExits\": \"int\"}\n",
    ")\n"
   ]
  },
  {
   "cell_type": "code",
   "execution_count": 33,
   "id": "ef350c57",
   "metadata": {},
   "outputs": [
    {
     "name": "stdout",
     "output_type": "stream",
     "text": [
      "                   TIME  totalEntries  totalExits  diffBusyness\n",
      "288 2023-01-28 23:00:00   10901248136  9490630462   20391878598\n"
     ]
    },
    {
     "data": {
      "application/javascript": "\n            setTimeout(function() {\n                var nbb_cell_id = 33;\n                var nbb_unformatted_code = \"# Calculate busyness as the difference of total entries and exits\\nenriched_canalSt_dataset[\\\"diffBusyness\\\"] = (\\n    enriched_canalSt_dataset[\\\"totalEntries\\\"] + enriched_canalSt_dataset[\\\"totalExits\\\"]\\n)\\n\\ncanalSt_busiestHour = enriched_canalSt_dataset[\\n    enriched_canalSt_dataset[\\\"TIME\\\"] == enriched_canalSt_dataset[\\\"TIME\\\"].max()\\n]\\n\\nprint(canalSt_busiestHour)\";\n                var nbb_formatted_code = \"# Calculate busyness as the difference of total entries and exits\\nenriched_canalSt_dataset[\\\"diffBusyness\\\"] = (\\n    enriched_canalSt_dataset[\\\"totalEntries\\\"] + enriched_canalSt_dataset[\\\"totalExits\\\"]\\n)\\n\\ncanalSt_busiestHour = enriched_canalSt_dataset[\\n    enriched_canalSt_dataset[\\\"TIME\\\"] == enriched_canalSt_dataset[\\\"TIME\\\"].max()\\n]\\n\\nprint(canalSt_busiestHour)\";\n                var nbb_cells = Jupyter.notebook.get_cells();\n                for (var i = 0; i < nbb_cells.length; ++i) {\n                    if (nbb_cells[i].input_prompt_number == nbb_cell_id) {\n                        if (nbb_cells[i].get_text() == nbb_unformatted_code) {\n                             nbb_cells[i].set_text(nbb_formatted_code);\n                        }\n                        break;\n                    }\n                }\n            }, 500);\n            ",
      "text/plain": [
       "<IPython.core.display.Javascript object>"
      ]
     },
     "metadata": {},
     "output_type": "display_data"
    }
   ],
   "source": [
    "# Calculate busyness as the difference of total entries and exits\n",
    "enriched_canalSt_dataset[\"diffBusyness\"] = (\n",
    "    enriched_canalSt_dataset[\"totalEntries\"] + enriched_canalSt_dataset[\"totalExits\"]\n",
    ")\n",
    "\n",
    "canalSt_busiestHour = enriched_canalSt_dataset[\n",
    "    enriched_canalSt_dataset[\"TIME\"] == enriched_canalSt_dataset[\"TIME\"].max()\n",
    "]\n",
    "\n",
    "print(canalSt_busiestHour)"
   ]
  }
 ],
 "metadata": {
  "kernelspec": {
   "display_name": "Python 3 (ipykernel)",
   "language": "python",
   "name": "python3"
  },
  "language_info": {
   "codemirror_mode": {
    "name": "ipython",
    "version": 3
   },
   "file_extension": ".py",
   "mimetype": "text/x-python",
   "name": "python",
   "nbconvert_exporter": "python",
   "pygments_lexer": "ipython3",
   "version": "3.9.6"
  }
 },
 "nbformat": 4,
 "nbformat_minor": 5
}
